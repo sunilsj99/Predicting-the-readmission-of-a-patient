{
 "cells": [
  {
   "cell_type": "markdown",
   "metadata": {},
   "source": [
    "<h1>Predicting Readmission of a Patient</h1>"
   ]
  },
  {
   "cell_type": "markdown",
   "metadata": {},
   "source": [
    "In this problem we are provided with a sampled dataset from the <a href='https://archive.ics.uci.edu/ml/datasets/diabetes+130-us+hospitals+for+years+1999-2008'>Datatset</a>. Using this dataset we have provide the insights like :<br>\n",
    "<ul>\n",
    "    <li>Probabilities of Readmission of patient</li>\n",
    "    <li>Finding the effect of the the features like :</li>\n",
    "    <ul>\n",
    "        <li>Age</li>\n",
    "        <li>Gender</li>\n",
    "        <li>Diagnosis 1 + Diagnosis 2 + Diagnosis 3</li>\n",
    "    </ul>\n",
    "</ul>\n",
    "\n",
    "First of all we will import all the dependencies which are necessary for our data analysis :"
   ]
  },
  {
   "cell_type": "code",
   "execution_count": 113,
   "metadata": {},
   "outputs": [],
   "source": [
    "import numpy as np           #Data manipulation \n",
    "import pandas as pd           #Dataframe and data analysis\n",
    "import seaborn as sns         #library for graphs\n",
    "import matplotlib.pyplot as plt  # ibrary for graphs and figures\n",
    "from tqdm import tqdm       #to see the progress of a cell      \n",
    "%matplotlib inline"
   ]
  },
  {
   "cell_type": "code",
   "execution_count": 114,
   "metadata": {},
   "outputs": [],
   "source": [
    "#Import the dataset\n",
    "\n",
    "data = pd.read_csv('diabetic_data_sampled.csv')"
   ]
  },
  {
   "cell_type": "markdown",
   "metadata": {},
   "source": [
    "Let's get a quick look at the features and their information"
   ]
  },
  {
   "cell_type": "code",
   "execution_count": 115,
   "metadata": {},
   "outputs": [
    {
     "name": "stdout",
     "output_type": "stream",
     "text": [
      "<class 'pandas.core.frame.DataFrame'>\n",
      "RangeIndex: 50000 entries, 0 to 49999\n",
      "Data columns (total 51 columns):\n",
      "Unnamed: 0                  50000 non-null int64\n",
      "encounter_id                50000 non-null int64\n",
      "patient_nbr                 50000 non-null int64\n",
      "race                        50000 non-null object\n",
      "gender                      50000 non-null object\n",
      "age                         50000 non-null object\n",
      "weight                      50000 non-null object\n",
      "admission_type_id           50000 non-null int64\n",
      "discharge_disposition_id    50000 non-null int64\n",
      "admission_source_id         50000 non-null int64\n",
      "time_in_hospital            50000 non-null int64\n",
      "payer_code                  50000 non-null object\n",
      "medical_specialty           50000 non-null object\n",
      "num_lab_procedures          50000 non-null int64\n",
      "num_procedures              50000 non-null int64\n",
      "num_medications             50000 non-null int64\n",
      "number_outpatient           50000 non-null int64\n",
      "number_emergency            50000 non-null int64\n",
      "number_inpatient            50000 non-null int64\n",
      "diag_1                      50000 non-null object\n",
      "diag_2                      50000 non-null object\n",
      "diag_3                      50000 non-null object\n",
      "number_diagnoses            50000 non-null int64\n",
      "max_glu_serum               50000 non-null object\n",
      "A1Cresult                   50000 non-null object\n",
      "metformin                   50000 non-null object\n",
      "repaglinide                 50000 non-null object\n",
      "nateglinide                 50000 non-null object\n",
      "chlorpropamide              50000 non-null object\n",
      "glimepiride                 50000 non-null object\n",
      "acetohexamide               50000 non-null object\n",
      "glipizide                   50000 non-null object\n",
      "glyburide                   50000 non-null object\n",
      "tolbutamide                 50000 non-null object\n",
      "pioglitazone                50000 non-null object\n",
      "rosiglitazone               50000 non-null object\n",
      "acarbose                    50000 non-null object\n",
      "miglitol                    50000 non-null object\n",
      "troglitazone                50000 non-null object\n",
      "tolazamide                  50000 non-null object\n",
      "examide                     50000 non-null object\n",
      "citoglipton                 50000 non-null object\n",
      "insulin                     50000 non-null object\n",
      "glyburide-metformin         50000 non-null object\n",
      "glipizide-metformin         50000 non-null object\n",
      "glimepiride-pioglitazone    50000 non-null object\n",
      "metformin-rosiglitazone     50000 non-null object\n",
      "metformin-pioglitazone      50000 non-null object\n",
      "change                      50000 non-null object\n",
      "diabetesMed                 50000 non-null object\n",
      "readmitted                  50000 non-null object\n",
      "dtypes: int64(14), object(37)\n",
      "memory usage: 19.5+ MB\n"
     ]
    }
   ],
   "source": [
    "data.info()"
   ]
  },
  {
   "cell_type": "markdown",
   "metadata": {},
   "source": [
    "Now let's see have a look at the first five instances of the dataset"
   ]
  },
  {
   "cell_type": "code",
   "execution_count": 116,
   "metadata": {},
   "outputs": [
    {
     "data": {
      "text/html": [
       "<div>\n",
       "<style scoped>\n",
       "    .dataframe tbody tr th:only-of-type {\n",
       "        vertical-align: middle;\n",
       "    }\n",
       "\n",
       "    .dataframe tbody tr th {\n",
       "        vertical-align: top;\n",
       "    }\n",
       "\n",
       "    .dataframe thead th {\n",
       "        text-align: right;\n",
       "    }\n",
       "</style>\n",
       "<table border=\"1\" class=\"dataframe\">\n",
       "  <thead>\n",
       "    <tr style=\"text-align: right;\">\n",
       "      <th></th>\n",
       "      <th>Unnamed: 0</th>\n",
       "      <th>encounter_id</th>\n",
       "      <th>patient_nbr</th>\n",
       "      <th>race</th>\n",
       "      <th>gender</th>\n",
       "      <th>age</th>\n",
       "      <th>weight</th>\n",
       "      <th>admission_type_id</th>\n",
       "      <th>discharge_disposition_id</th>\n",
       "      <th>admission_source_id</th>\n",
       "      <th>...</th>\n",
       "      <th>citoglipton</th>\n",
       "      <th>insulin</th>\n",
       "      <th>glyburide-metformin</th>\n",
       "      <th>glipizide-metformin</th>\n",
       "      <th>glimepiride-pioglitazone</th>\n",
       "      <th>metformin-rosiglitazone</th>\n",
       "      <th>metformin-pioglitazone</th>\n",
       "      <th>change</th>\n",
       "      <th>diabetesMed</th>\n",
       "      <th>readmitted</th>\n",
       "    </tr>\n",
       "  </thead>\n",
       "  <tbody>\n",
       "    <tr>\n",
       "      <th>0</th>\n",
       "      <td>60753</td>\n",
       "      <td>170043306</td>\n",
       "      <td>43951986</td>\n",
       "      <td>Caucasian</td>\n",
       "      <td>Male</td>\n",
       "      <td>[50-60)</td>\n",
       "      <td>?</td>\n",
       "      <td>3</td>\n",
       "      <td>1</td>\n",
       "      <td>1</td>\n",
       "      <td>...</td>\n",
       "      <td>No</td>\n",
       "      <td>No</td>\n",
       "      <td>No</td>\n",
       "      <td>No</td>\n",
       "      <td>No</td>\n",
       "      <td>No</td>\n",
       "      <td>No</td>\n",
       "      <td>No</td>\n",
       "      <td>Yes</td>\n",
       "      <td>NO</td>\n",
       "    </tr>\n",
       "    <tr>\n",
       "      <th>1</th>\n",
       "      <td>84068</td>\n",
       "      <td>264404190</td>\n",
       "      <td>41103801</td>\n",
       "      <td>Caucasian</td>\n",
       "      <td>Female</td>\n",
       "      <td>[50-60)</td>\n",
       "      <td>?</td>\n",
       "      <td>1</td>\n",
       "      <td>1</td>\n",
       "      <td>7</td>\n",
       "      <td>...</td>\n",
       "      <td>No</td>\n",
       "      <td>Down</td>\n",
       "      <td>No</td>\n",
       "      <td>No</td>\n",
       "      <td>No</td>\n",
       "      <td>No</td>\n",
       "      <td>No</td>\n",
       "      <td>Ch</td>\n",
       "      <td>Yes</td>\n",
       "      <td>&gt;30</td>\n",
       "    </tr>\n",
       "    <tr>\n",
       "      <th>2</th>\n",
       "      <td>58710</td>\n",
       "      <td>166069038</td>\n",
       "      <td>85378401</td>\n",
       "      <td>Caucasian</td>\n",
       "      <td>Female</td>\n",
       "      <td>[80-90)</td>\n",
       "      <td>?</td>\n",
       "      <td>1</td>\n",
       "      <td>6</td>\n",
       "      <td>1</td>\n",
       "      <td>...</td>\n",
       "      <td>No</td>\n",
       "      <td>No</td>\n",
       "      <td>No</td>\n",
       "      <td>No</td>\n",
       "      <td>No</td>\n",
       "      <td>No</td>\n",
       "      <td>No</td>\n",
       "      <td>No</td>\n",
       "      <td>Yes</td>\n",
       "      <td>&lt;30</td>\n",
       "    </tr>\n",
       "    <tr>\n",
       "      <th>3</th>\n",
       "      <td>24001</td>\n",
       "      <td>81704184</td>\n",
       "      <td>21255471</td>\n",
       "      <td>Caucasian</td>\n",
       "      <td>Female</td>\n",
       "      <td>[50-60)</td>\n",
       "      <td>?</td>\n",
       "      <td>2</td>\n",
       "      <td>1</td>\n",
       "      <td>1</td>\n",
       "      <td>...</td>\n",
       "      <td>No</td>\n",
       "      <td>No</td>\n",
       "      <td>No</td>\n",
       "      <td>No</td>\n",
       "      <td>No</td>\n",
       "      <td>No</td>\n",
       "      <td>No</td>\n",
       "      <td>No</td>\n",
       "      <td>Yes</td>\n",
       "      <td>&lt;30</td>\n",
       "    </tr>\n",
       "    <tr>\n",
       "      <th>4</th>\n",
       "      <td>20797</td>\n",
       "      <td>72981234</td>\n",
       "      <td>8641071</td>\n",
       "      <td>Caucasian</td>\n",
       "      <td>Female</td>\n",
       "      <td>[80-90)</td>\n",
       "      <td>?</td>\n",
       "      <td>1</td>\n",
       "      <td>1</td>\n",
       "      <td>7</td>\n",
       "      <td>...</td>\n",
       "      <td>No</td>\n",
       "      <td>No</td>\n",
       "      <td>No</td>\n",
       "      <td>No</td>\n",
       "      <td>No</td>\n",
       "      <td>No</td>\n",
       "      <td>No</td>\n",
       "      <td>No</td>\n",
       "      <td>No</td>\n",
       "      <td>NO</td>\n",
       "    </tr>\n",
       "  </tbody>\n",
       "</table>\n",
       "<p>5 rows × 51 columns</p>\n",
       "</div>"
      ],
      "text/plain": [
       "   Unnamed: 0  encounter_id  patient_nbr       race  gender      age weight  \\\n",
       "0       60753     170043306     43951986  Caucasian    Male  [50-60)      ?   \n",
       "1       84068     264404190     41103801  Caucasian  Female  [50-60)      ?   \n",
       "2       58710     166069038     85378401  Caucasian  Female  [80-90)      ?   \n",
       "3       24001      81704184     21255471  Caucasian  Female  [50-60)      ?   \n",
       "4       20797      72981234      8641071  Caucasian  Female  [80-90)      ?   \n",
       "\n",
       "   admission_type_id  discharge_disposition_id  admission_source_id  \\\n",
       "0                  3                         1                    1   \n",
       "1                  1                         1                    7   \n",
       "2                  1                         6                    1   \n",
       "3                  2                         1                    1   \n",
       "4                  1                         1                    7   \n",
       "\n",
       "     ...      citoglipton insulin glyburide-metformin  glipizide-metformin  \\\n",
       "0    ...               No      No                  No                   No   \n",
       "1    ...               No    Down                  No                   No   \n",
       "2    ...               No      No                  No                   No   \n",
       "3    ...               No      No                  No                   No   \n",
       "4    ...               No      No                  No                   No   \n",
       "\n",
       "   glimepiride-pioglitazone  metformin-rosiglitazone  metformin-pioglitazone  \\\n",
       "0                        No                       No                      No   \n",
       "1                        No                       No                      No   \n",
       "2                        No                       No                      No   \n",
       "3                        No                       No                      No   \n",
       "4                        No                       No                      No   \n",
       "\n",
       "   change  diabetesMed readmitted  \n",
       "0      No          Yes         NO  \n",
       "1      Ch          Yes        >30  \n",
       "2      No          Yes        <30  \n",
       "3      No          Yes        <30  \n",
       "4      No           No         NO  \n",
       "\n",
       "[5 rows x 51 columns]"
      ]
     },
     "execution_count": 116,
     "metadata": {},
     "output_type": "execute_result"
    }
   ],
   "source": [
    "data.head()"
   ]
  },
  {
   "cell_type": "code",
   "execution_count": 117,
   "metadata": {},
   "outputs": [
    {
     "data": {
      "text/plain": [
       "(50000, 51)"
      ]
     },
     "execution_count": 117,
     "metadata": {},
     "output_type": "execute_result"
    }
   ],
   "source": [
    "#Shape of the dataset\n",
    "data.shape"
   ]
  },
  {
   "cell_type": "markdown",
   "metadata": {},
   "source": [
    "In this dataset the <p></p> feature is our target variable. it contains 3 values i.e. '<30' , '>30', 'NO'.\n",
    "\n",
    "1. '<30' means the patient is readmitted within 30 days of discharge.\n",
    "2. '>30' means the patient is readmitted after the 30 days of discharge.\n",
    "3. 'NO' means the patient is never readmitted.\n",
    "\n",
    "Let's make a plot to visualize this data."
   ]
  },
  {
   "cell_type": "code",
   "execution_count": 118,
   "metadata": {},
   "outputs": [
    {
     "data": {
      "text/plain": [
       "<matplotlib.axes._subplots.AxesSubplot at 0x16102821be0>"
      ]
     },
     "execution_count": 118,
     "metadata": {},
     "output_type": "execute_result"
    },
    {
     "data": {
      "image/png": "[encoded data removed]",
      "text/plain": [
       "<Figure size 432x288 with 1 Axes>"
      ]
     },
     "metadata": {
      "needs_background": "light"
     },
     "output_type": "display_data"
    }
   ],
   "source": [
    "sns.countplot(x=data['readmitted'])"
   ]
  },
  {
   "cell_type": "code",
   "execution_count": 120,
   "metadata": {},
   "outputs": [
    {
     "data": {
      "text/plain": [
       "<matplotlib.axes._subplots.AxesSubplot at 0x161028cd6d8>"
      ]
     },
     "execution_count": 120,
     "metadata": {},
     "output_type": "execute_result"
    },
    {
     "data": {
      "image/png": "[encoded data removed]",
      "text/plain": [
       "<Figure size 1080x720 with 1 Axes>"
      ]
     },
     "metadata": {
      "needs_background": "light"
     },
     "output_type": "display_data"
    }
   ],
   "source": [
    "#Plot for the age variation in the dataset\n",
    "plt.figure(figsize=(15,10))\n",
    "sns.countplot(x=data['age'])"
   ]
  },
  {
   "cell_type": "code",
   "execution_count": 122,
   "metadata": {},
   "outputs": [
    {
     "data": {
      "text/plain": [
       "<matplotlib.axes._subplots.AxesSubplot at 0x16102855d68>"
      ]
     },
     "execution_count": 122,
     "metadata": {},
     "output_type": "execute_result"
    },
    {
     "data": {
      "image/png": "[encoded data removed]",
      "text/plain": [
       "<Figure size 1080x720 with 1 Axes>"
      ]
     },
     "metadata": {
      "needs_background": "light"
     },
     "output_type": "display_data"
    }
   ],
   "source": [
    "#Plot for the no. of males and females of each age group\n",
    "plt.figure(figsize=(15,10))\n",
    "sns.countplot(x=data['age'], hue=data['gender'])"
   ]
  },
  {
   "cell_type": "markdown",
   "metadata": {},
   "source": [
    "lets check the columns of the dataset "
   ]
  },
  {
   "cell_type": "code",
   "execution_count": 7,
   "metadata": {},
   "outputs": [
    {
     "data": {
      "text/plain": [
       "Index(['Unnamed: 0', 'encounter_id', 'patient_nbr', 'race', 'gender', 'age',\n",
       "       'weight', 'admission_type_id', 'discharge_disposition_id',\n",
       "       'admission_source_id', 'time_in_hospital', 'payer_code',\n",
       "       'medical_specialty', 'num_lab_procedures', 'num_procedures',\n",
       "       'num_medications', 'number_outpatient', 'number_emergency',\n",
       "       'number_inpatient', 'diag_1', 'diag_2', 'diag_3', 'number_diagnoses',\n",
       "       'max_glu_serum', 'A1Cresult', 'metformin', 'repaglinide', 'nateglinide',\n",
       "       'chlorpropamide', 'glimepiride', 'acetohexamide', 'glipizide',\n",
       "       'glyburide', 'tolbutamide', 'pioglitazone', 'rosiglitazone', 'acarbose',\n",
       "       'miglitol', 'troglitazone', 'tolazamide', 'examide', 'citoglipton',\n",
       "       'insulin', 'glyburide-metformin', 'glipizide-metformin',\n",
       "       'glimepiride-pioglitazone', 'metformin-rosiglitazone',\n",
       "       'metformin-pioglitazone', 'change', 'diabetesMed', 'readmitted'],\n",
       "      dtype='object')"
      ]
     },
     "execution_count": 7,
     "metadata": {},
     "output_type": "execute_result"
    }
   ],
   "source": [
    "data.columns"
   ]
  },
  {
   "cell_type": "markdown",
   "metadata": {},
   "source": [
    "<h2> EDA and Feature Engineering </h2>"
   ]
  },
  {
   "cell_type": "markdown",
   "metadata": {},
   "source": [
    "The dataset is a combination is a of categorical and numerical features. From above we can see that 'Unnamed: 0' , 'encounter_id' and 'patient_nbr' are just identifiers so we don't need them for our analysis. let's drop these columns."
   ]
  },
  {
   "cell_type": "code",
   "execution_count": 8,
   "metadata": {},
   "outputs": [],
   "source": [
    "data = data.drop(['Unnamed: 0', 'encounter_id', 'patient_nbr'], axis=1)"
   ]
  },
  {
   "cell_type": "markdown",
   "metadata": {},
   "source": [
    "There are null values represented by the '?' so we will replace them will NaN"
   ]
  },
  {
   "cell_type": "code",
   "execution_count": 9,
   "metadata": {},
   "outputs": [],
   "source": [
    "data = data.replace('?', np.nan)"
   ]
  },
  {
   "cell_type": "code",
   "execution_count": 10,
   "metadata": {},
   "outputs": [
    {
     "data": {
      "text/html": [
       "<div>\n",
       "<style scoped>\n",
       "    .dataframe tbody tr th:only-of-type {\n",
       "        vertical-align: middle;\n",
       "    }\n",
       "\n",
       "    .dataframe tbody tr th {\n",
       "        vertical-align: top;\n",
       "    }\n",
       "\n",
       "    .dataframe thead th {\n",
       "        text-align: right;\n",
       "    }\n",
       "</style>\n",
       "<table border=\"1\" class=\"dataframe\">\n",
       "  <thead>\n",
       "    <tr style=\"text-align: right;\">\n",
       "      <th></th>\n",
       "      <th>%age of null values</th>\n",
       "    </tr>\n",
       "  </thead>\n",
       "  <tbody>\n",
       "    <tr>\n",
       "      <th>race</th>\n",
       "      <td>2.284</td>\n",
       "    </tr>\n",
       "    <tr>\n",
       "      <th>gender</th>\n",
       "      <td>0.000</td>\n",
       "    </tr>\n",
       "    <tr>\n",
       "      <th>age</th>\n",
       "      <td>0.000</td>\n",
       "    </tr>\n",
       "    <tr>\n",
       "      <th>weight</th>\n",
       "      <td>96.852</td>\n",
       "    </tr>\n",
       "    <tr>\n",
       "      <th>admission_type_id</th>\n",
       "      <td>0.000</td>\n",
       "    </tr>\n",
       "    <tr>\n",
       "      <th>discharge_disposition_id</th>\n",
       "      <td>0.000</td>\n",
       "    </tr>\n",
       "    <tr>\n",
       "      <th>admission_source_id</th>\n",
       "      <td>0.000</td>\n",
       "    </tr>\n",
       "    <tr>\n",
       "      <th>time_in_hospital</th>\n",
       "      <td>0.000</td>\n",
       "    </tr>\n",
       "    <tr>\n",
       "      <th>payer_code</th>\n",
       "      <td>39.852</td>\n",
       "    </tr>\n",
       "    <tr>\n",
       "      <th>medical_specialty</th>\n",
       "      <td>49.128</td>\n",
       "    </tr>\n",
       "    <tr>\n",
       "      <th>num_lab_procedures</th>\n",
       "      <td>0.000</td>\n",
       "    </tr>\n",
       "    <tr>\n",
       "      <th>num_procedures</th>\n",
       "      <td>0.000</td>\n",
       "    </tr>\n",
       "    <tr>\n",
       "      <th>num_medications</th>\n",
       "      <td>0.000</td>\n",
       "    </tr>\n",
       "    <tr>\n",
       "      <th>number_outpatient</th>\n",
       "      <td>0.000</td>\n",
       "    </tr>\n",
       "    <tr>\n",
       "      <th>number_emergency</th>\n",
       "      <td>0.000</td>\n",
       "    </tr>\n",
       "    <tr>\n",
       "      <th>number_inpatient</th>\n",
       "      <td>0.000</td>\n",
       "    </tr>\n",
       "    <tr>\n",
       "      <th>diag_1</th>\n",
       "      <td>0.020</td>\n",
       "    </tr>\n",
       "    <tr>\n",
       "      <th>diag_2</th>\n",
       "      <td>0.352</td>\n",
       "    </tr>\n",
       "    <tr>\n",
       "      <th>diag_3</th>\n",
       "      <td>1.420</td>\n",
       "    </tr>\n",
       "    <tr>\n",
       "      <th>number_diagnoses</th>\n",
       "      <td>0.000</td>\n",
       "    </tr>\n",
       "    <tr>\n",
       "      <th>max_glu_serum</th>\n",
       "      <td>0.000</td>\n",
       "    </tr>\n",
       "    <tr>\n",
       "      <th>A1Cresult</th>\n",
       "      <td>0.000</td>\n",
       "    </tr>\n",
       "    <tr>\n",
       "      <th>metformin</th>\n",
       "      <td>0.000</td>\n",
       "    </tr>\n",
       "    <tr>\n",
       "      <th>repaglinide</th>\n",
       "      <td>0.000</td>\n",
       "    </tr>\n",
       "    <tr>\n",
       "      <th>nateglinide</th>\n",
       "      <td>0.000</td>\n",
       "    </tr>\n",
       "    <tr>\n",
       "      <th>chlorpropamide</th>\n",
       "      <td>0.000</td>\n",
       "    </tr>\n",
       "    <tr>\n",
       "      <th>glimepiride</th>\n",
       "      <td>0.000</td>\n",
       "    </tr>\n",
       "    <tr>\n",
       "      <th>acetohexamide</th>\n",
       "      <td>0.000</td>\n",
       "    </tr>\n",
       "    <tr>\n",
       "      <th>glipizide</th>\n",
       "      <td>0.000</td>\n",
       "    </tr>\n",
       "    <tr>\n",
       "      <th>glyburide</th>\n",
       "      <td>0.000</td>\n",
       "    </tr>\n",
       "    <tr>\n",
       "      <th>tolbutamide</th>\n",
       "      <td>0.000</td>\n",
       "    </tr>\n",
       "    <tr>\n",
       "      <th>pioglitazone</th>\n",
       "      <td>0.000</td>\n",
       "    </tr>\n",
       "    <tr>\n",
       "      <th>rosiglitazone</th>\n",
       "      <td>0.000</td>\n",
       "    </tr>\n",
       "    <tr>\n",
       "      <th>acarbose</th>\n",
       "      <td>0.000</td>\n",
       "    </tr>\n",
       "    <tr>\n",
       "      <th>miglitol</th>\n",
       "      <td>0.000</td>\n",
       "    </tr>\n",
       "    <tr>\n",
       "      <th>troglitazone</th>\n",
       "      <td>0.000</td>\n",
       "    </tr>\n",
       "    <tr>\n",
       "      <th>tolazamide</th>\n",
       "      <td>0.000</td>\n",
       "    </tr>\n",
       "    <tr>\n",
       "      <th>examide</th>\n",
       "      <td>0.000</td>\n",
       "    </tr>\n",
       "    <tr>\n",
       "      <th>citoglipton</th>\n",
       "      <td>0.000</td>\n",
       "    </tr>\n",
       "    <tr>\n",
       "      <th>insulin</th>\n",
       "      <td>0.000</td>\n",
       "    </tr>\n",
       "    <tr>\n",
       "      <th>glyburide-metformin</th>\n",
       "      <td>0.000</td>\n",
       "    </tr>\n",
       "    <tr>\n",
       "      <th>glipizide-metformin</th>\n",
       "      <td>0.000</td>\n",
       "    </tr>\n",
       "    <tr>\n",
       "      <th>glimepiride-pioglitazone</th>\n",
       "      <td>0.000</td>\n",
       "    </tr>\n",
       "    <tr>\n",
       "      <th>metformin-rosiglitazone</th>\n",
       "      <td>0.000</td>\n",
       "    </tr>\n",
       "    <tr>\n",
       "      <th>metformin-pioglitazone</th>\n",
       "      <td>0.000</td>\n",
       "    </tr>\n",
       "    <tr>\n",
       "      <th>change</th>\n",
       "      <td>0.000</td>\n",
       "    </tr>\n",
       "    <tr>\n",
       "      <th>diabetesMed</th>\n",
       "      <td>0.000</td>\n",
       "    </tr>\n",
       "    <tr>\n",
       "      <th>readmitted</th>\n",
       "      <td>0.000</td>\n",
       "    </tr>\n",
       "  </tbody>\n",
       "</table>\n",
       "</div>"
      ],
      "text/plain": [
       "                          %age of null values\n",
       "race                                    2.284\n",
       "gender                                  0.000\n",
       "age                                     0.000\n",
       "weight                                 96.852\n",
       "admission_type_id                       0.000\n",
       "discharge_disposition_id                0.000\n",
       "admission_source_id                     0.000\n",
       "time_in_hospital                        0.000\n",
       "payer_code                             39.852\n",
       "medical_specialty                      49.128\n",
       "num_lab_procedures                      0.000\n",
       "num_procedures                          0.000\n",
       "num_medications                         0.000\n",
       "number_outpatient                       0.000\n",
       "number_emergency                        0.000\n",
       "number_inpatient                        0.000\n",
       "diag_1                                  0.020\n",
       "diag_2                                  0.352\n",
       "diag_3                                  1.420\n",
       "number_diagnoses                        0.000\n",
       "max_glu_serum                           0.000\n",
       "A1Cresult                               0.000\n",
       "metformin                               0.000\n",
       "repaglinide                             0.000\n",
       "nateglinide                             0.000\n",
       "chlorpropamide                          0.000\n",
       "glimepiride                             0.000\n",
       "acetohexamide                           0.000\n",
       "glipizide                               0.000\n",
       "glyburide                               0.000\n",
       "tolbutamide                             0.000\n",
       "pioglitazone                            0.000\n",
       "rosiglitazone                           0.000\n",
       "acarbose                                0.000\n",
       "miglitol                                0.000\n",
       "troglitazone                            0.000\n",
       "tolazamide                              0.000\n",
       "examide                                 0.000\n",
       "citoglipton                             0.000\n",
       "insulin                                 0.000\n",
       "glyburide-metformin                     0.000\n",
       "glipizide-metformin                     0.000\n",
       "glimepiride-pioglitazone                0.000\n",
       "metformin-rosiglitazone                 0.000\n",
       "metformin-pioglitazone                  0.000\n",
       "change                                  0.000\n",
       "diabetesMed                             0.000\n",
       "readmitted                              0.000"
      ]
     },
     "execution_count": 10,
     "metadata": {},
     "output_type": "execute_result"
    }
   ],
   "source": [
    "null_percent = data.isnull().sum()/data.shape[0]*100\n",
    "null_values = pd.DataFrame(null_percent, index=data.columns, columns=['%age of null values'])\n",
    "null_values"
   ]
  },
  {
   "cell_type": "markdown",
   "metadata": {},
   "source": [
    "Now we can see weight, payer_code and medical_specialty have high percentages of null values so it's better to drop these columns and we will also remove those instances which have any null values"
   ]
  },
  {
   "cell_type": "code",
   "execution_count": 11,
   "metadata": {},
   "outputs": [],
   "source": [
    "data = data.drop(['weight', 'payer_code', 'medical_specialty'], axis=1)\n",
    "data = data.dropna()"
   ]
  },
  {
   "cell_type": "code",
   "execution_count": 12,
   "metadata": {},
   "outputs": [
    {
     "data": {
      "text/plain": [
       "(48152, 45)"
      ]
     },
     "execution_count": 12,
     "metadata": {},
     "output_type": "execute_result"
    }
   ],
   "source": [
    "#lets check the shape of data again\n",
    "data.shape"
   ]
  },
  {
   "cell_type": "markdown",
   "metadata": {},
   "source": [
    "Let's get those columns which have only one value in them "
   ]
  },
  {
   "cell_type": "code",
   "execution_count": 13,
   "metadata": {},
   "outputs": [
    {
     "data": {
      "text/plain": [
       "{'acetohexamide': array(['No'], dtype=object),\n",
       " 'examide': array(['No'], dtype=object),\n",
       " 'citoglipton': array(['No'], dtype=object),\n",
       " 'metformin-rosiglitazone': array(['No'], dtype=object),\n",
       " 'metformin-pioglitazone': array(['No'], dtype=object)}"
      ]
     },
     "execution_count": 13,
     "metadata": {},
     "output_type": "execute_result"
    }
   ],
   "source": [
    "unique_values= {}\n",
    "cols_with_one = []\n",
    "for i in data.columns:\n",
    "    uv = data[i].unique()\n",
    "    if(len(uv) < 2):\n",
    "        unique_values[i] = uv\n",
    "        cols_with_one.append(i)\n",
    "        \n",
    "\n",
    "unique_values"
   ]
  },
  {
   "cell_type": "code",
   "execution_count": 14,
   "metadata": {},
   "outputs": [],
   "source": [
    "#We will drop these features from our dataset \n",
    "data = data.drop(cols_with_one, axis=1)"
   ]
  },
  {
   "cell_type": "code",
   "execution_count": 15,
   "metadata": {},
   "outputs": [
    {
     "data": {
      "text/plain": [
       "[70-80)     12397\n",
       "[60-70)     10658\n",
       "[50-60)      8250\n",
       "[80-90)      8179\n",
       "[40-50)      4560\n",
       "[30-40)      1772\n",
       "[90-100)     1351\n",
       "[20-30)       697\n",
       "[10-20)       259\n",
       "[0-10)         29\n",
       "Name: age, dtype: int64"
      ]
     },
     "execution_count": 15,
     "metadata": {},
     "output_type": "execute_result"
    }
   ],
   "source": [
    "#Let's have a look at the Age \n",
    "data['age'].value_counts()"
   ]
  },
  {
   "cell_type": "markdown",
   "metadata": {},
   "source": [
    "As we can see most of the people belong to 70-80 and 60-70 age groups. We will reduce the age categories in the dataset to get a better persepective so we will 0-10, 10-20, 20-30, 30-40 in a single group i.e 0-40 and do same with 80-90 and 90-100"
   ]
  },
  {
   "cell_type": "code",
   "execution_count": 16,
   "metadata": {},
   "outputs": [
    {
     "data": {
      "text/plain": [
       "[70-80)     12397\n",
       "[60-70)     10658\n",
       "[80-100)     9530\n",
       "[50-60)      8250\n",
       "[40-50)      4560\n",
       "[0-40)       2757\n",
       "Name: age, dtype: int64"
      ]
     },
     "execution_count": 16,
     "metadata": {},
     "output_type": "execute_result"
    }
   ],
   "source": [
    "data['age'] = pd.Series(['[0-40)' if val in ['[0-10)', '[10-20)', '[20-30)', '[30-40)'] else val \n",
    "                         for val in data['age']], index=data.index)\n",
    "data['age'] = pd.Series(['[80-100)' if val in ['[80-90)', '[90-100)'] else val \n",
    "                         for val in data['age']], index=data.index)\n",
    "\n",
    "data['age'].value_counts()"
   ]
  },
  {
   "cell_type": "markdown",
   "metadata": {},
   "source": [
    "Let's check the percentages of the values in the medicinal columns"
   ]
  },
  {
   "cell_type": "code",
   "execution_count": 17,
   "metadata": {},
   "outputs": [],
   "source": [
    "med_cols = data.columns[19:37]"
   ]
  },
  {
   "cell_type": "code",
   "execution_count": 18,
   "metadata": {},
   "outputs": [],
   "source": [
    "data_per = []\n",
    "for i in med_cols:\n",
    "    per = data[i].value_counts()\n",
    "    data_per.append(per/data.shape[0]*100)"
   ]
  },
  {
   "cell_type": "code",
   "execution_count": 19,
   "metadata": {},
   "outputs": [
    {
     "name": "stdout",
     "output_type": "stream",
     "text": [
      "[No        80.499252\n",
      "Steady    17.930719\n",
      "Up         1.007227\n",
      "Down       0.562801\n",
      "Name: metformin, dtype: float64, No        98.340671\n",
      "Steady     1.484881\n",
      "Up         0.118375\n",
      "Down       0.056072\n",
      "Name: repaglinide, dtype: float64, No        99.268982\n",
      "Steady     0.693637\n",
      "Up         0.022844\n",
      "Down       0.014537\n",
      "Name: nateglinide, dtype: float64, No        99.929390\n",
      "Steady     0.068533\n",
      "Up         0.002077\n",
      "Name: chlorpropamide, dtype: float64, No        94.938943\n",
      "Steady     4.539791\n",
      "Up         0.338511\n",
      "Down       0.182755\n",
      "Name: glimepiride, dtype: float64, No        87.616298\n",
      "Steady    11.052500\n",
      "Up         0.772554\n",
      "Down       0.558648\n",
      "Name: glipizide, dtype: float64, No        89.539375\n",
      "Steady     9.087888\n",
      "Up         0.836933\n",
      "Down       0.535803\n",
      "Name: glyburide, dtype: float64, No        99.979232\n",
      "Steady     0.020768\n",
      "Name: tolbutamide, dtype: float64, No        92.774963\n",
      "Steady     6.880296\n",
      "Up         0.230520\n",
      "Down       0.114222\n",
      "Name: pioglitazone, dtype: float64, No        93.672122\n",
      "Steady     6.084898\n",
      "Up         0.170294\n",
      "Down       0.072686\n",
      "Name: rosiglitazone, dtype: float64, No        99.721715\n",
      "Steady     0.267902\n",
      "Up         0.008307\n",
      "Down       0.002077\n",
      "Name: acarbose, dtype: float64, No        99.962618\n",
      "Steady     0.026998\n",
      "Down       0.006230\n",
      "Up         0.004154\n",
      "Name: miglitol, dtype: float64, No        99.995846\n",
      "Steady     0.004154\n",
      "Name: troglitazone, dtype: float64, No        99.964695\n",
      "Steady     0.035305\n",
      "Name: tolazamide, dtype: float64, No        46.978319\n",
      "Steady    29.975910\n",
      "Down      12.115800\n",
      "Up        10.929972\n",
      "Name: insulin, dtype: float64, No        99.318824\n",
      "Steady     0.674946\n",
      "Up         0.006230\n",
      "Name: glyburide-metformin, dtype: float64, No        99.983386\n",
      "Steady     0.016614\n",
      "Name: glipizide-metformin, dtype: float64, No        99.997923\n",
      "Steady     0.002077\n",
      "Name: glimepiride-pioglitazone, dtype: float64]\n"
     ]
    }
   ],
   "source": [
    "print(data_per)"
   ]
  },
  {
   "cell_type": "markdown",
   "metadata": {},
   "source": [
    "As we can see there are high occurences of a single value analysis will be biased and will not help. So we will remove all the features except Insulin."
   ]
  },
  {
   "cell_type": "code",
   "execution_count": 20,
   "metadata": {},
   "outputs": [],
   "source": [
    "insulin_data = data['insulin']\n",
    "data = data.drop(med_cols, axis=1)\n",
    "data = pd.concat([data, insulin_data], axis=1)"
   ]
  },
  {
   "cell_type": "markdown",
   "metadata": {},
   "source": [
    "Now we will analyse the diagnosis columns namely diag_1, diag_2, diag_3 which corresponds to the Primary diagnosis, Secondary diagnosis, Additional Secondary diagnosis. Some points to know about them are :\n",
    "\n",
    "1. These are the categorical features.\n",
    "2. They have high no. of unique values which are around 600 to 800 so it will be a difficult task to encode them.\n",
    "3. These are one of the icd9 codes which corresponds to a particular category which can be seen <a href='https://www.hindawi.com/journals/bmri/2014/781670/tab2/'>here</a>\n",
    "\n",
    "First lets make the copies for these features in the data :"
   ]
  },
  {
   "cell_type": "code",
   "execution_count": 21,
   "metadata": {},
   "outputs": [],
   "source": [
    "data['diag1_cat'] = data['diag_1'].copy()\n",
    "data['diag2_cat'] = data['diag_2'].copy()\n",
    "data['diag3_cat'] = data['diag_3'].copy()"
   ]
  },
  {
   "cell_type": "markdown",
   "metadata": {},
   "source": [
    "The codes which contain E or V belongs to the other category so we will encode them as 0"
   ]
  },
  {
   "cell_type": "code",
   "execution_count": 22,
   "metadata": {},
   "outputs": [],
   "source": [
    "#converting to category 0 i.e. diagnosis containing E and V\n",
    "data.loc[data['diag_1'].str.contains('E'), ['diag1_cat']] = '0'\n",
    "data.loc[data['diag_1'].str.contains('V'), ['diag1_cat']] = '0'\n",
    "data.loc[data['diag_2'].str.contains('E'), ['diag2_cat']] = '0'\n",
    "data.loc[data['diag_2'].str.contains('V'), ['diag2_cat']] = '0'\n",
    "data.loc[data['diag_3'].str.contains('E'), ['diag3_cat']] = '0'\n",
    "data.loc[data['diag_3'].str.contains('V'), ['diag3_cat']] = '0'"
   ]
  },
  {
   "cell_type": "markdown",
   "metadata": {},
   "source": [
    "Now to deal with other categories we will make a function "
   ]
  },
  {
   "cell_type": "code",
   "execution_count": 23,
   "metadata": {},
   "outputs": [],
   "source": [
    "# Now for other categories\n",
    "diagnosis_cols = ['diag1_cat', 'diag2_cat', 'diag3_cat']\n",
    "\n",
    "def diagnosis_cat(i):\n",
    "    for index, row in data.iterrows():\n",
    "        if(np.float64(row[i]) >= 390 and np.float64(row[i]) <= 459) or (np.float64(row[i]) == 785):\n",
    "            data.loc[index, i] = '1'\n",
    "        elif(np.float64(row[i]) >= 460 and np.float64(row[i]) <= 519) or (np.float64(row[i]) == 786):\n",
    "            data.loc[index, i] = '2'\n",
    "        elif(np.float64(row[i]) >= 520 and np.float64(row[i]) <= 579) or (np.float64(row[i]) == 787):\n",
    "            data.loc[index, i] = '3'\n",
    "        elif(np.float64(row[i]) >= 800 and np.float64(row[i]) <= 999):\n",
    "            data.loc[index, i] = '5'\n",
    "        elif(np.float64(row[i]) >= 710 and np.float64(row[i]) <= 739):\n",
    "            data.loc[index, i] = '6'\n",
    "        elif(np.float64(row[i]) >= 580 and np.float64(row[i]) <= 629) or (np.float64(row[i]) == 788):\n",
    "            data.loc[index, i] = '7'\n",
    "        elif(np.float64(row[i]) >= 140 and np.float64(row[i]) <= 239):\n",
    "            data.loc[index, i] = '8'\n",
    "        elif(np.floor(np.float64(row[i])) == 250):\n",
    "            data.loc[index, i] = '4'\n",
    "        else:\n",
    "            data.loc[index, i] = '0'"
   ]
  },
  {
   "cell_type": "code",
   "execution_count": 24,
   "metadata": {},
   "outputs": [
    {
     "name": "stderr",
     "output_type": "stream",
     "text": [
      "\r",
      "  0%|                                                                                            | 0/3 [00:00<?, ?it/s]"
     ]
    },
    {
     "name": "stdout",
     "output_type": "stream",
     "text": [
      "Diagnosis done : diag1_cat\n"
     ]
    },
    {
     "name": "stderr",
     "output_type": "stream",
     "text": [
      "\r",
      " 33%|████████████████████████████                                                        | 1/3 [01:37<03:15, 97.54s/it]"
     ]
    },
    {
     "name": "stdout",
     "output_type": "stream",
     "text": [
      "Diagnosis done : diag2_cat\n"
     ]
    },
    {
     "name": "stderr",
     "output_type": "stream",
     "text": [
      "\r",
      " 67%|████████████████████████████████████████████████████████                            | 2/3 [03:18<01:38, 98.48s/it]"
     ]
    },
    {
     "name": "stdout",
     "output_type": "stream",
     "text": [
      "Diagnosis done : diag3_cat\n"
     ]
    },
    {
     "name": "stderr",
     "output_type": "stream",
     "text": [
      "100%|████████████████████████████████████████████████████████████████████████████████████| 3/3 [04:59<00:00, 99.34s/it]\n"
     ]
    }
   ],
   "source": [
    "for i in tqdm(diagnosis_cols):\n",
    "    diagnosis_cat(i)\n",
    "    print('Diagnosis done :', i)"
   ]
  },
  {
   "cell_type": "markdown",
   "metadata": {},
   "source": [
    "Now encoding of the diagnosis columns is done , let's make some plots to gain insights about diagnosis types:"
   ]
  },
  {
   "cell_type": "code",
   "execution_count": 25,
   "metadata": {},
   "outputs": [
    {
     "data": {
      "image/png": "[encoded data removed]",
      "text/plain": [
       "<Figure size 1440x360 with 3 Axes>"
      ]
     },
     "metadata": {
      "needs_background": "light"
     },
     "output_type": "display_data"
    }
   ],
   "source": [
    "plt.figure(figsize=(20,5))\n",
    "n=0\n",
    "for i,j in zip([data['diag1_cat'],data['diag2_cat'], data['diag3_cat']] , ['Diagnosis 1', 'Diagnosis 2','Diagnosis 3']):\n",
    "    n += 1\n",
    "    plt.subplot(1, 3, n)\n",
    "    sns.countplot(x=i)\n",
    "    plt.title(j)\n",
    "plt.show()"
   ]
  },
  {
   "cell_type": "code",
   "execution_count": 26,
   "metadata": {},
   "outputs": [],
   "source": [
    "#Drop old diagnosis columns\n",
    "data1 = data.drop(['diag_1', 'diag_2', 'diag_3'], axis=1)"
   ]
  },
  {
   "cell_type": "markdown",
   "metadata": {},
   "source": [
    "Let's have a look at the admission_type_id column , each id maps to a particular type of admission emargency , urgent etc. (Full details are available in the id_mappings file of original dataset). Some of these id's are of same type like emergency , urgent and trauma center maps to same category.\n",
    "\n",
    "So we will map similar id's togather"
   ]
  },
  {
   "cell_type": "code",
   "execution_count": 27,
   "metadata": {},
   "outputs": [],
   "source": [
    "# id 1,2 and 7 are same and 5,6,8 are also same so\n",
    "data1['admission_type_id'] = data1['admission_type_id'].replace(2,1)\n",
    "data1['admission_type_id'] = data1['admission_type_id'].replace(7,1)\n",
    "data1['admission_type_id'] = data1['admission_type_id'].replace(6,5)\n",
    "data1['admission_type_id'] = data1['admission_type_id'].replace(8,5)"
   ]
  },
  {
   "cell_type": "markdown",
   "metadata": {},
   "source": [
    "Let's do same thing for the discharge disposition id "
   ]
  },
  {
   "cell_type": "code",
   "execution_count": 28,
   "metadata": {},
   "outputs": [],
   "source": [
    "data1['discharge_disposition_id'] = data1['discharge_disposition_id'].replace(25,18) #not mapped data\n",
    "data1['discharge_disposition_id'] = data1['discharge_disposition_id'].replace(19,11)  #expired\n",
    "data1['discharge_disposition_id'] = data1['discharge_disposition_id'].replace(20,11)  #expired"
   ]
  },
  {
   "cell_type": "markdown",
   "metadata": {},
   "source": [
    "Now let's consider our target variable i.e. readmitted. It has three classes namely '<30' , '>30', 'NO'. Since '>30' is not clear and does not give a clear explanation about the time after which the patient was readmitted.\n",
    "\n",
    "It could be in years which is close to never readmitted so we will consider our problem to be binary i.e. we will predict whether the patient was readmitted in the 30 or not.\n",
    "\n",
    "So we will encode '<30'  as 1 as it is our main variable and rest as 0 "
   ]
  },
  {
   "cell_type": "code",
   "execution_count": 29,
   "metadata": {},
   "outputs": [
    {
     "data": {
      "text/plain": [
       "0    42739\n",
       "1     5413\n",
       "Name: readmitted, dtype: int64"
      ]
     },
     "execution_count": 29,
     "metadata": {},
     "output_type": "execute_result"
    }
   ],
   "source": [
    "target = {'<30': 1, '>30': 0, 'NO': 0}\n",
    "\n",
    "data1['readmitted'] = data1['readmitted'].map(target).astype('int')\n",
    "\n",
    "data1['readmitted'].value_counts()"
   ]
  },
  {
   "cell_type": "markdown",
   "metadata": {},
   "source": [
    "As we can our data is facing a class imbalance problem so we will deal with problem later.\n",
    "\n",
    "\n",
    "Now we will also encode the change and DiabetesMeds columns"
   ]
  },
  {
   "cell_type": "code",
   "execution_count": 30,
   "metadata": {},
   "outputs": [
    {
     "data": {
      "text/plain": [
       "0    25958\n",
       "1    22194\n",
       "Name: change, dtype: int64"
      ]
     },
     "execution_count": 30,
     "metadata": {},
     "output_type": "execute_result"
    }
   ],
   "source": [
    "change = {'Ch': 1, 'No': 0}\n",
    "\n",
    "data1['change'] = data1['change'].map(change).astype('int')\n",
    "\n",
    "data1['change'].value_counts()"
   ]
  },
  {
   "cell_type": "code",
   "execution_count": 31,
   "metadata": {},
   "outputs": [
    {
     "data": {
      "text/plain": [
       "1    36912\n",
       "0    11240\n",
       "Name: diabetesMed, dtype: int64"
      ]
     },
     "execution_count": 31,
     "metadata": {},
     "output_type": "execute_result"
    }
   ],
   "source": [
    "data1['diabetesMed'] = data1['diabetesMed'].replace('Yes',1)\n",
    "data1['diabetesMed'] = data1['diabetesMed'].replace('No',0)\n",
    "\n",
    "data1['diabetesMed'].value_counts()"
   ]
  },
  {
   "cell_type": "markdown",
   "metadata": {},
   "source": [
    "Now we will saperate out the integer type columns and categorical columns so that we can one hot encode the categorical columns."
   ]
  },
  {
   "cell_type": "code",
   "execution_count": 32,
   "metadata": {},
   "outputs": [],
   "source": [
    "cols_int = []\n",
    "cols_cat = []\n",
    "for i in data1.columns:\n",
    "    if(data1[i].dtype == 'int64') or (data1[i].dtype == 'int32'):\n",
    "        cols_int.append(i)\n",
    "    else:\n",
    "        cols_cat.append(i)"
   ]
  },
  {
   "cell_type": "code",
   "execution_count": 33,
   "metadata": {},
   "outputs": [
    {
     "data": {
      "text/plain": [
       "['admission_type_id',\n",
       " 'discharge_disposition_id',\n",
       " 'admission_source_id',\n",
       " 'time_in_hospital',\n",
       " 'num_lab_procedures',\n",
       " 'num_procedures',\n",
       " 'num_medications',\n",
       " 'number_outpatient',\n",
       " 'number_emergency',\n",
       " 'number_inpatient',\n",
       " 'number_diagnoses',\n",
       " 'change',\n",
       " 'diabetesMed',\n",
       " 'readmitted']"
      ]
     },
     "execution_count": 33,
     "metadata": {},
     "output_type": "execute_result"
    }
   ],
   "source": [
    "#Integer columns\n",
    "cols_int"
   ]
  },
  {
   "cell_type": "code",
   "execution_count": 34,
   "metadata": {},
   "outputs": [
    {
     "data": {
      "text/plain": [
       "['race',\n",
       " 'gender',\n",
       " 'age',\n",
       " 'max_glu_serum',\n",
       " 'A1Cresult',\n",
       " 'insulin',\n",
       " 'diag1_cat',\n",
       " 'diag2_cat',\n",
       " 'diag3_cat']"
      ]
     },
     "execution_count": 34,
     "metadata": {},
     "output_type": "execute_result"
    }
   ],
   "source": [
    "#categorical columns\n",
    "cols_cat"
   ]
  },
  {
   "cell_type": "markdown",
   "metadata": {},
   "source": [
    "Let's create one hot encoding of the categorical columns and concat them with the integer columns"
   ]
  },
  {
   "cell_type": "code",
   "execution_count": 35,
   "metadata": {},
   "outputs": [
    {
     "data": {
      "text/html": [
       "<div>\n",
       "<style scoped>\n",
       "    .dataframe tbody tr th:only-of-type {\n",
       "        vertical-align: middle;\n",
       "    }\n",
       "\n",
       "    .dataframe tbody tr th {\n",
       "        vertical-align: top;\n",
       "    }\n",
       "\n",
       "    .dataframe thead th {\n",
       "        text-align: right;\n",
       "    }\n",
       "</style>\n",
       "<table border=\"1\" class=\"dataframe\">\n",
       "  <thead>\n",
       "    <tr style=\"text-align: right;\">\n",
       "      <th></th>\n",
       "      <th>race_AfricanAmerican</th>\n",
       "      <th>race_Asian</th>\n",
       "      <th>race_Caucasian</th>\n",
       "      <th>race_Hispanic</th>\n",
       "      <th>race_Other</th>\n",
       "      <th>gender_Female</th>\n",
       "      <th>gender_Male</th>\n",
       "      <th>age_[0-40)</th>\n",
       "      <th>age_[40-50)</th>\n",
       "      <th>age_[50-60)</th>\n",
       "      <th>...</th>\n",
       "      <th>diag2_cat_8</th>\n",
       "      <th>diag3_cat_0</th>\n",
       "      <th>diag3_cat_1</th>\n",
       "      <th>diag3_cat_2</th>\n",
       "      <th>diag3_cat_3</th>\n",
       "      <th>diag3_cat_4</th>\n",
       "      <th>diag3_cat_5</th>\n",
       "      <th>diag3_cat_6</th>\n",
       "      <th>diag3_cat_7</th>\n",
       "      <th>diag3_cat_8</th>\n",
       "    </tr>\n",
       "  </thead>\n",
       "  <tbody>\n",
       "    <tr>\n",
       "      <th>0</th>\n",
       "      <td>0</td>\n",
       "      <td>0</td>\n",
       "      <td>1</td>\n",
       "      <td>0</td>\n",
       "      <td>0</td>\n",
       "      <td>0</td>\n",
       "      <td>1</td>\n",
       "      <td>0</td>\n",
       "      <td>0</td>\n",
       "      <td>1</td>\n",
       "      <td>...</td>\n",
       "      <td>0</td>\n",
       "      <td>0</td>\n",
       "      <td>1</td>\n",
       "      <td>0</td>\n",
       "      <td>0</td>\n",
       "      <td>0</td>\n",
       "      <td>0</td>\n",
       "      <td>0</td>\n",
       "      <td>0</td>\n",
       "      <td>0</td>\n",
       "    </tr>\n",
       "    <tr>\n",
       "      <th>1</th>\n",
       "      <td>0</td>\n",
       "      <td>0</td>\n",
       "      <td>1</td>\n",
       "      <td>0</td>\n",
       "      <td>0</td>\n",
       "      <td>1</td>\n",
       "      <td>0</td>\n",
       "      <td>0</td>\n",
       "      <td>0</td>\n",
       "      <td>1</td>\n",
       "      <td>...</td>\n",
       "      <td>0</td>\n",
       "      <td>0</td>\n",
       "      <td>0</td>\n",
       "      <td>1</td>\n",
       "      <td>0</td>\n",
       "      <td>0</td>\n",
       "      <td>0</td>\n",
       "      <td>0</td>\n",
       "      <td>0</td>\n",
       "      <td>0</td>\n",
       "    </tr>\n",
       "    <tr>\n",
       "      <th>2</th>\n",
       "      <td>0</td>\n",
       "      <td>0</td>\n",
       "      <td>1</td>\n",
       "      <td>0</td>\n",
       "      <td>0</td>\n",
       "      <td>1</td>\n",
       "      <td>0</td>\n",
       "      <td>0</td>\n",
       "      <td>0</td>\n",
       "      <td>0</td>\n",
       "      <td>...</td>\n",
       "      <td>0</td>\n",
       "      <td>0</td>\n",
       "      <td>0</td>\n",
       "      <td>0</td>\n",
       "      <td>0</td>\n",
       "      <td>0</td>\n",
       "      <td>0</td>\n",
       "      <td>1</td>\n",
       "      <td>0</td>\n",
       "      <td>0</td>\n",
       "    </tr>\n",
       "    <tr>\n",
       "      <th>3</th>\n",
       "      <td>0</td>\n",
       "      <td>0</td>\n",
       "      <td>1</td>\n",
       "      <td>0</td>\n",
       "      <td>0</td>\n",
       "      <td>1</td>\n",
       "      <td>0</td>\n",
       "      <td>0</td>\n",
       "      <td>0</td>\n",
       "      <td>1</td>\n",
       "      <td>...</td>\n",
       "      <td>0</td>\n",
       "      <td>0</td>\n",
       "      <td>0</td>\n",
       "      <td>0</td>\n",
       "      <td>0</td>\n",
       "      <td>0</td>\n",
       "      <td>0</td>\n",
       "      <td>0</td>\n",
       "      <td>1</td>\n",
       "      <td>0</td>\n",
       "    </tr>\n",
       "    <tr>\n",
       "      <th>4</th>\n",
       "      <td>0</td>\n",
       "      <td>0</td>\n",
       "      <td>1</td>\n",
       "      <td>0</td>\n",
       "      <td>0</td>\n",
       "      <td>1</td>\n",
       "      <td>0</td>\n",
       "      <td>0</td>\n",
       "      <td>0</td>\n",
       "      <td>0</td>\n",
       "      <td>...</td>\n",
       "      <td>0</td>\n",
       "      <td>0</td>\n",
       "      <td>1</td>\n",
       "      <td>0</td>\n",
       "      <td>0</td>\n",
       "      <td>0</td>\n",
       "      <td>0</td>\n",
       "      <td>0</td>\n",
       "      <td>0</td>\n",
       "      <td>0</td>\n",
       "    </tr>\n",
       "  </tbody>\n",
       "</table>\n",
       "<p>5 rows × 52 columns</p>\n",
       "</div>"
      ],
      "text/plain": [
       "   race_AfricanAmerican  race_Asian  race_Caucasian  race_Hispanic  \\\n",
       "0                     0           0               1              0   \n",
       "1                     0           0               1              0   \n",
       "2                     0           0               1              0   \n",
       "3                     0           0               1              0   \n",
       "4                     0           0               1              0   \n",
       "\n",
       "   race_Other  gender_Female  gender_Male  age_[0-40)  age_[40-50)  \\\n",
       "0           0              0            1           0            0   \n",
       "1           0              1            0           0            0   \n",
       "2           0              1            0           0            0   \n",
       "3           0              1            0           0            0   \n",
       "4           0              1            0           0            0   \n",
       "\n",
       "   age_[50-60)     ...       diag2_cat_8  diag3_cat_0  diag3_cat_1  \\\n",
       "0            1     ...                 0            0            1   \n",
       "1            1     ...                 0            0            0   \n",
       "2            0     ...                 0            0            0   \n",
       "3            1     ...                 0            0            0   \n",
       "4            0     ...                 0            0            1   \n",
       "\n",
       "   diag3_cat_2  diag3_cat_3  diag3_cat_4  diag3_cat_5  diag3_cat_6  \\\n",
       "0            0            0            0            0            0   \n",
       "1            1            0            0            0            0   \n",
       "2            0            0            0            0            1   \n",
       "3            0            0            0            0            0   \n",
       "4            0            0            0            0            0   \n",
       "\n",
       "   diag3_cat_7  diag3_cat_8  \n",
       "0            0            0  \n",
       "1            0            0  \n",
       "2            0            0  \n",
       "3            1            0  \n",
       "4            0            0  \n",
       "\n",
       "[5 rows x 52 columns]"
      ]
     },
     "execution_count": 35,
     "metadata": {},
     "output_type": "execute_result"
    }
   ],
   "source": [
    "one_hot_encode = pd.get_dummies(data1[cols_cat])\n",
    "one_hot_encode.head()"
   ]
  },
  {
   "cell_type": "code",
   "execution_count": 36,
   "metadata": {},
   "outputs": [],
   "source": [
    "data2 = pd.concat([data1[cols_int], one_hot_encode], axis=1)"
   ]
  },
  {
   "cell_type": "code",
   "execution_count": 37,
   "metadata": {},
   "outputs": [
    {
     "data": {
      "text/plain": [
       "(48152, 66)"
      ]
     },
     "execution_count": 37,
     "metadata": {},
     "output_type": "execute_result"
    }
   ],
   "source": [
    "data2.shape"
   ]
  },
  {
   "cell_type": "code",
   "execution_count": 38,
   "metadata": {},
   "outputs": [],
   "source": [
    "#export it as a new datafile \n",
    "data2.to_csv('diabetes_preprocessed.csv', sep=',', index=False)"
   ]
  },
  {
   "cell_type": "markdown",
   "metadata": {},
   "source": [
    "Here our Feature engineering and EDA has ended now we will prepare our data for machine learning models and divide it in training and testing sets"
   ]
  },
  {
   "cell_type": "markdown",
   "metadata": {},
   "source": [
    "<h2>Making Data ready for the ML Algorithms</h2>"
   ]
  },
  {
   "cell_type": "code",
   "execution_count": 40,
   "metadata": {},
   "outputs": [
    {
     "data": {
      "text/html": [
       "<div>\n",
       "<style scoped>\n",
       "    .dataframe tbody tr th:only-of-type {\n",
       "        vertical-align: middle;\n",
       "    }\n",
       "\n",
       "    .dataframe tbody tr th {\n",
       "        vertical-align: top;\n",
       "    }\n",
       "\n",
       "    .dataframe thead th {\n",
       "        text-align: right;\n",
       "    }\n",
       "</style>\n",
       "<table border=\"1\" class=\"dataframe\">\n",
       "  <thead>\n",
       "    <tr style=\"text-align: right;\">\n",
       "      <th></th>\n",
       "      <th>admission_type_id</th>\n",
       "      <th>discharge_disposition_id</th>\n",
       "      <th>admission_source_id</th>\n",
       "      <th>time_in_hospital</th>\n",
       "      <th>num_lab_procedures</th>\n",
       "      <th>num_procedures</th>\n",
       "      <th>num_medications</th>\n",
       "      <th>number_outpatient</th>\n",
       "      <th>number_emergency</th>\n",
       "      <th>number_inpatient</th>\n",
       "      <th>...</th>\n",
       "      <th>diag2_cat_8</th>\n",
       "      <th>diag3_cat_0</th>\n",
       "      <th>diag3_cat_1</th>\n",
       "      <th>diag3_cat_2</th>\n",
       "      <th>diag3_cat_3</th>\n",
       "      <th>diag3_cat_4</th>\n",
       "      <th>diag3_cat_5</th>\n",
       "      <th>diag3_cat_6</th>\n",
       "      <th>diag3_cat_7</th>\n",
       "      <th>diag3_cat_8</th>\n",
       "    </tr>\n",
       "  </thead>\n",
       "  <tbody>\n",
       "    <tr>\n",
       "      <th>0</th>\n",
       "      <td>3</td>\n",
       "      <td>1</td>\n",
       "      <td>1</td>\n",
       "      <td>14</td>\n",
       "      <td>41</td>\n",
       "      <td>0</td>\n",
       "      <td>11</td>\n",
       "      <td>0</td>\n",
       "      <td>0</td>\n",
       "      <td>0</td>\n",
       "      <td>...</td>\n",
       "      <td>0</td>\n",
       "      <td>0</td>\n",
       "      <td>1</td>\n",
       "      <td>0</td>\n",
       "      <td>0</td>\n",
       "      <td>0</td>\n",
       "      <td>0</td>\n",
       "      <td>0</td>\n",
       "      <td>0</td>\n",
       "      <td>0</td>\n",
       "    </tr>\n",
       "    <tr>\n",
       "      <th>1</th>\n",
       "      <td>1</td>\n",
       "      <td>1</td>\n",
       "      <td>7</td>\n",
       "      <td>2</td>\n",
       "      <td>30</td>\n",
       "      <td>0</td>\n",
       "      <td>12</td>\n",
       "      <td>0</td>\n",
       "      <td>0</td>\n",
       "      <td>1</td>\n",
       "      <td>...</td>\n",
       "      <td>0</td>\n",
       "      <td>0</td>\n",
       "      <td>0</td>\n",
       "      <td>1</td>\n",
       "      <td>0</td>\n",
       "      <td>0</td>\n",
       "      <td>0</td>\n",
       "      <td>0</td>\n",
       "      <td>0</td>\n",
       "      <td>0</td>\n",
       "    </tr>\n",
       "    <tr>\n",
       "      <th>2</th>\n",
       "      <td>1</td>\n",
       "      <td>6</td>\n",
       "      <td>1</td>\n",
       "      <td>5</td>\n",
       "      <td>66</td>\n",
       "      <td>0</td>\n",
       "      <td>22</td>\n",
       "      <td>1</td>\n",
       "      <td>0</td>\n",
       "      <td>2</td>\n",
       "      <td>...</td>\n",
       "      <td>0</td>\n",
       "      <td>0</td>\n",
       "      <td>0</td>\n",
       "      <td>0</td>\n",
       "      <td>0</td>\n",
       "      <td>0</td>\n",
       "      <td>0</td>\n",
       "      <td>1</td>\n",
       "      <td>0</td>\n",
       "      <td>0</td>\n",
       "    </tr>\n",
       "    <tr>\n",
       "      <th>3</th>\n",
       "      <td>1</td>\n",
       "      <td>1</td>\n",
       "      <td>1</td>\n",
       "      <td>3</td>\n",
       "      <td>63</td>\n",
       "      <td>0</td>\n",
       "      <td>8</td>\n",
       "      <td>0</td>\n",
       "      <td>0</td>\n",
       "      <td>0</td>\n",
       "      <td>...</td>\n",
       "      <td>0</td>\n",
       "      <td>0</td>\n",
       "      <td>0</td>\n",
       "      <td>0</td>\n",
       "      <td>0</td>\n",
       "      <td>0</td>\n",
       "      <td>0</td>\n",
       "      <td>0</td>\n",
       "      <td>1</td>\n",
       "      <td>0</td>\n",
       "    </tr>\n",
       "    <tr>\n",
       "      <th>4</th>\n",
       "      <td>1</td>\n",
       "      <td>1</td>\n",
       "      <td>7</td>\n",
       "      <td>5</td>\n",
       "      <td>40</td>\n",
       "      <td>0</td>\n",
       "      <td>6</td>\n",
       "      <td>0</td>\n",
       "      <td>0</td>\n",
       "      <td>1</td>\n",
       "      <td>...</td>\n",
       "      <td>0</td>\n",
       "      <td>0</td>\n",
       "      <td>1</td>\n",
       "      <td>0</td>\n",
       "      <td>0</td>\n",
       "      <td>0</td>\n",
       "      <td>0</td>\n",
       "      <td>0</td>\n",
       "      <td>0</td>\n",
       "      <td>0</td>\n",
       "    </tr>\n",
       "  </tbody>\n",
       "</table>\n",
       "<p>5 rows × 66 columns</p>\n",
       "</div>"
      ],
      "text/plain": [
       "   admission_type_id  discharge_disposition_id  admission_source_id  \\\n",
       "0                  3                         1                    1   \n",
       "1                  1                         1                    7   \n",
       "2                  1                         6                    1   \n",
       "3                  1                         1                    1   \n",
       "4                  1                         1                    7   \n",
       "\n",
       "   time_in_hospital  num_lab_procedures  num_procedures  num_medications  \\\n",
       "0                14                  41               0               11   \n",
       "1                 2                  30               0               12   \n",
       "2                 5                  66               0               22   \n",
       "3                 3                  63               0                8   \n",
       "4                 5                  40               0                6   \n",
       "\n",
       "   number_outpatient  number_emergency  number_inpatient     ...       \\\n",
       "0                  0                 0                 0     ...        \n",
       "1                  0                 0                 1     ...        \n",
       "2                  1                 0                 2     ...        \n",
       "3                  0                 0                 0     ...        \n",
       "4                  0                 0                 1     ...        \n",
       "\n",
       "   diag2_cat_8  diag3_cat_0  diag3_cat_1  diag3_cat_2  diag3_cat_3  \\\n",
       "0            0            0            1            0            0   \n",
       "1            0            0            0            1            0   \n",
       "2            0            0            0            0            0   \n",
       "3            0            0            0            0            0   \n",
       "4            0            0            1            0            0   \n",
       "\n",
       "   diag3_cat_4  diag3_cat_5  diag3_cat_6  diag3_cat_7  diag3_cat_8  \n",
       "0            0            0            0            0            0  \n",
       "1            0            0            0            0            0  \n",
       "2            0            0            1            0            0  \n",
       "3            0            0            0            1            0  \n",
       "4            0            0            0            0            0  \n",
       "\n",
       "[5 rows x 66 columns]"
      ]
     },
     "execution_count": 40,
     "metadata": {},
     "output_type": "execute_result"
    }
   ],
   "source": [
    "#lets import our preprocessed data\n",
    "data = pd.read_csv('diabetes_preprocessed.csv')\n",
    "\n",
    "data.head()"
   ]
  },
  {
   "cell_type": "code",
   "execution_count": 41,
   "metadata": {},
   "outputs": [],
   "source": [
    "#saperate our data and our target variable\n",
    "y = data['readmitted']\n",
    "X = data.drop('readmitted', axis=1)"
   ]
  },
  {
   "cell_type": "markdown",
   "metadata": {},
   "source": [
    "Now we will divide our data in training and test sets. Here we have chosen 80% training set and 20% test set."
   ]
  },
  {
   "cell_type": "code",
   "execution_count": 44,
   "metadata": {},
   "outputs": [],
   "source": [
    "from sklearn.model_selection import train_test_split\n",
    "\n",
    "xtrain, xtest, ytrain, ytest = train_test_split(X, y, random_state = 22, test_size = 0.2)"
   ]
  },
  {
   "cell_type": "markdown",
   "metadata": {},
   "source": [
    "We seen previously that there are integer columns in our dataset. As integer data may vary to different ranges so we should normalize our data to a particular range to speed up the calculations. The algorithms which use euclidean distances are sensitive data magnitude like KNN but linear models and tree based models are not affected by the normalization."
   ]
  },
  {
   "cell_type": "code",
   "execution_count": 45,
   "metadata": {},
   "outputs": [
    {
     "name": "stderr",
     "output_type": "stream",
     "text": [
      "C:\\Users\\user\\Anaconda3\\lib\\site-packages\\sklearn\\preprocessing\\data.py:625: DataConversionWarning: Data with input dtype int64 were all converted to float64 by StandardScaler.\n",
      "  return self.partial_fit(X, y)\n",
      "C:\\Users\\user\\Anaconda3\\lib\\site-packages\\sklearn\\base.py:462: DataConversionWarning: Data with input dtype int64 were all converted to float64 by StandardScaler.\n",
      "  return self.fit(X, **fit_params).transform(X)\n",
      "C:\\Users\\user\\Anaconda3\\lib\\site-packages\\sklearn\\preprocessing\\data.py:625: DataConversionWarning: Data with input dtype int64 were all converted to float64 by StandardScaler.\n",
      "  return self.partial_fit(X, y)\n",
      "C:\\Users\\user\\Anaconda3\\lib\\site-packages\\sklearn\\base.py:462: DataConversionWarning: Data with input dtype int64 were all converted to float64 by StandardScaler.\n",
      "  return self.fit(X, **fit_params).transform(X)\n"
     ]
    }
   ],
   "source": [
    "from sklearn.preprocessing import StandardScaler\n",
    "\n",
    "scaler = StandardScaler()\n",
    "\n",
    "xtrain_sc = scaler.fit_transform(xtrain)\n",
    "xtest_sc = scaler.fit_transform(xtest)\n",
    "\n",
    "xtrain_sc = pd.DataFrame(xtrain_sc, columns=X.columns)\n",
    "xtest_sc = pd.DataFrame(xtest_sc, columns=X.columns)"
   ]
  },
  {
   "cell_type": "markdown",
   "metadata": {},
   "source": [
    "Let's have a look at the distribution of target variables in our testing and training sets."
   ]
  },
  {
   "cell_type": "code",
   "execution_count": 46,
   "metadata": {},
   "outputs": [
    {
     "name": "stdout",
     "output_type": "stream",
     "text": [
      "Train Samples\n"
     ]
    },
    {
     "data": {
      "text/plain": [
       "0    34230\n",
       "1     4291\n",
       "Name: readmitted, dtype: int64"
      ]
     },
     "execution_count": 46,
     "metadata": {},
     "output_type": "execute_result"
    }
   ],
   "source": [
    "print('Train Samples')\n",
    "pd.Series(ytrain).value_counts()"
   ]
  },
  {
   "cell_type": "code",
   "execution_count": 47,
   "metadata": {},
   "outputs": [
    {
     "name": "stdout",
     "output_type": "stream",
     "text": [
      "Test Samples\n"
     ]
    },
    {
     "data": {
      "text/plain": [
       "0    8509\n",
       "1    1122\n",
       "Name: readmitted, dtype: int64"
      ]
     },
     "execution_count": 47,
     "metadata": {},
     "output_type": "execute_result"
    }
   ],
   "source": [
    "print('Test Samples')\n",
    "pd.Series(ytest).value_counts()"
   ]
  },
  {
   "cell_type": "markdown",
   "metadata": {},
   "source": [
    "<h2>Applying Machine learning Algrorithms & Model Evaluations </h2>"
   ]
  },
  {
   "cell_type": "markdown",
   "metadata": {},
   "source": [
    "Now we have chose 3 algorithms for the analysis of our data:\n",
    " \n",
    " 1. Logistic regression\n",
    " 2. Decision Tree\n",
    " 3. Random Forest\n",
    " \n",
    "Since our data is facing the class imbalanced problem, accuracy_score() metric will not be suitable for our model evaluation. So we will use other metrics like Precision score, Recall score, F1_score , AUC, classification report and confusion metrics.\n",
    " \n",
    "For all this make a helper function to generate all these metrics and one more helper function to generate plots of ROC curve"
   ]
  },
  {
   "cell_type": "code",
   "execution_count": 74,
   "metadata": {},
   "outputs": [],
   "source": [
    "from sklearn.metrics import precision_score, recall_score, f1_score, roc_auc_score, confusion_matrix, classification_report, roc_curve\n",
    "\n",
    "def scores(predicted, actual):\n",
    "    print('Precision Score : ', precision_score(actual, predicted))\n",
    "    print('Recall Score : ', recall_score(actual, predicted))\n",
    "    print('f1 Score : ', f1_score(actual, predicted))\n",
    "    print('AUC : ',roc_auc_score(actual, predicted))\n",
    "    print('Classification Report : ', classification_report(actual, predicted))\n",
    "    print('Confusion matrix : ', confusion_matrix(actual, predicted))"
   ]
  },
  {
   "cell_type": "code",
   "execution_count": 75,
   "metadata": {},
   "outputs": [],
   "source": [
    "def gen_roc_curve(predicted_prob, actual, title):\n",
    "    fpr, tpr, thres = roc_curve(actual, predicted_prob)\n",
    "    plt.plot([0, 1], [0, 1])\n",
    "    # plot the roc curve for the model\n",
    "    plt.plot(fpr, tpr)\n",
    "    plt.ylabel('True Positive Rate')\n",
    "    plt.xlabel('False Positive Rate')\n",
    "    plt.title(title)\n",
    "    # show the plo1\n",
    "    plt.show()"
   ]
  },
  {
   "cell_type": "markdown",
   "metadata": {},
   "source": [
    "<h3>Logistic regression</h3>"
   ]
  },
  {
   "cell_type": "code",
   "execution_count": 52,
   "metadata": {},
   "outputs": [
    {
     "data": {
      "text/plain": [
       "0.6564730925988422"
      ]
     },
     "execution_count": 52,
     "metadata": {},
     "output_type": "execute_result"
    }
   ],
   "source": [
    "#Logistic regression \n",
    "\n",
    "from sklearn.linear_model import LogisticRegression\n",
    "\n",
    "lr= LogisticRegression(solver='lbfgs',class_weight='balanced', random_state=22)\n",
    "\n",
    "lr.fit(xtrain_sc, ytrain)\n",
    "\n",
    "lr.score(xtrain_sc, ytrain)"
   ]
  },
  {
   "cell_type": "code",
   "execution_count": 93,
   "metadata": {},
   "outputs": [
    {
     "data": {
      "text/plain": [
       "0.6537223548956494"
      ]
     },
     "execution_count": 93,
     "metadata": {},
     "output_type": "execute_result"
    }
   ],
   "source": [
    "lr_acc = lr.score(xtest_sc, ytest)\n",
    "lr_acc"
   ]
  },
  {
   "cell_type": "code",
   "execution_count": 55,
   "metadata": {},
   "outputs": [
    {
     "name": "stdout",
     "output_type": "stream",
     "text": [
      "Precision Score :  0.1746545133784181\n",
      "Recall Score :  0.5294117647058824\n",
      "f1 Score :  0.2626575281892549\n",
      "AUC :  0.5997628808251471\n",
      "Classification Report :                precision    recall  f1-score   support\n",
      "\n",
      "           0       0.92      0.67      0.77      8509\n",
      "           1       0.17      0.53      0.26      1122\n",
      "\n",
      "   micro avg       0.65      0.65      0.65      9631\n",
      "   macro avg       0.54      0.60      0.52      9631\n",
      "weighted avg       0.83      0.65      0.71      9631\n",
      "\n",
      "Confusion matrix :  [[5702 2807]\n",
      " [ 528  594]]\n"
     ]
    }
   ],
   "source": [
    "lr_pred = lr.predict(xtest_sc)\n",
    "scores(lr_pred, ytest)"
   ]
  },
  {
   "cell_type": "code",
   "execution_count": 76,
   "metadata": {},
   "outputs": [
    {
     "data": {
      "image/png": "[encoded data removed]",
      "text/plain": [
       "<Figure size 432x288 with 1 Axes>"
      ]
     },
     "metadata": {
      "needs_background": "light"
     },
     "output_type": "display_data"
    }
   ],
   "source": [
    "probs_lr = lr.predict_proba(xtest_sc)\n",
    "probs_lr = probs_lr[:, 1]\n",
    "gen_roc_curve(probs_lr, ytest, title= 'ROC curve for logistic regression')"
   ]
  },
  {
   "cell_type": "markdown",
   "metadata": {},
   "source": [
    "<h3>Decision Tree</h3>"
   ]
  },
  {
   "cell_type": "code",
   "execution_count": 82,
   "metadata": {},
   "outputs": [
    {
     "data": {
      "text/plain": [
       "DecisionTreeClassifier(class_weight='balanced', criterion='gini',\n",
       "            max_depth=10, max_features=None, max_leaf_nodes=None,\n",
       "            min_impurity_decrease=0.0, min_impurity_split=None,\n",
       "            min_samples_leaf=1, min_samples_split=2,\n",
       "            min_weight_fraction_leaf=0.0, presort=False, random_state=22,\n",
       "            splitter='best')"
      ]
     },
     "execution_count": 82,
     "metadata": {},
     "output_type": "execute_result"
    }
   ],
   "source": [
    "#Decision Tree Classifier\n",
    "\n",
    "from sklearn.tree import DecisionTreeClassifier\n",
    "\n",
    "dte = DecisionTreeClassifier(max_depth=10,class_weight='balanced', random_state=22)\n",
    "\n",
    "dte.fit(xtrain_sc, ytrain)"
   ]
  },
  {
   "cell_type": "code",
   "execution_count": 83,
   "metadata": {},
   "outputs": [
    {
     "data": {
      "text/plain": [
       "0.6308766646764102"
      ]
     },
     "execution_count": 83,
     "metadata": {},
     "output_type": "execute_result"
    }
   ],
   "source": [
    "dte.score(xtrain_sc, ytrain)"
   ]
  },
  {
   "cell_type": "code",
   "execution_count": 94,
   "metadata": {},
   "outputs": [
    {
     "data": {
      "text/plain": [
       "0.5956806146817568"
      ]
     },
     "execution_count": 94,
     "metadata": {},
     "output_type": "execute_result"
    }
   ],
   "source": [
    "dte_acc = dte.score(xtest_sc, ytest)\n",
    "dte_acc"
   ]
  },
  {
   "cell_type": "code",
   "execution_count": 85,
   "metadata": {},
   "outputs": [
    {
     "name": "stdout",
     "output_type": "stream",
     "text": [
      "Precision Score :  0.1587887740029542\n",
      "Recall Score :  0.5748663101604278\n",
      "f1 Score :  0.2488425925925926\n",
      "AUC :  0.5866457535054107\n",
      "Classification Report :                precision    recall  f1-score   support\n",
      "\n",
      "           0       0.91      0.60      0.72      8509\n",
      "           1       0.16      0.57      0.25      1122\n",
      "\n",
      "   micro avg       0.60      0.60      0.60      9631\n",
      "   macro avg       0.54      0.59      0.49      9631\n",
      "weighted avg       0.83      0.60      0.67      9631\n",
      "\n",
      "Confusion matrix :  [[5092 3417]\n",
      " [ 477  645]]\n"
     ]
    }
   ],
   "source": [
    "dte_pred = dte.predict(xtest_sc)\n",
    "scores(dte_pred, ytest)"
   ]
  },
  {
   "cell_type": "code",
   "execution_count": 86,
   "metadata": {},
   "outputs": [
    {
     "data": {
      "image/png": "[encoded data removed]",
      "text/plain": [
       "<Figure size 432x288 with 1 Axes>"
      ]
     },
     "metadata": {
      "needs_background": "light"
     },
     "output_type": "display_data"
    }
   ],
   "source": [
    "probs_dt = dte.predict_proba(xtest_sc)\n",
    "probs_dt = probs_dt[:, 1]\n",
    "gen_roc_curve(probs_dt, ytest, title= 'ROC curve for Decision Tree Classifier')"
   ]
  },
  {
   "cell_type": "markdown",
   "metadata": {},
   "source": [
    "<h3> Random Forest Classifier </h3>"
   ]
  },
  {
   "cell_type": "code",
   "execution_count": 88,
   "metadata": {},
   "outputs": [
    {
     "data": {
      "text/plain": [
       "0.7787181018145947"
      ]
     },
     "execution_count": 88,
     "metadata": {},
     "output_type": "execute_result"
    }
   ],
   "source": [
    "from sklearn.ensemble import RandomForestClassifier\n",
    "\n",
    "rf1 = RandomForestClassifier(class_weight='balanced', random_state=22, max_depth=10, n_estimators=100)\n",
    "\n",
    "rf1.fit(xtrain_sc,ytrain)\n",
    "\n",
    "rf1.score(xtrain_sc, ytrain)"
   ]
  },
  {
   "cell_type": "code",
   "execution_count": 95,
   "metadata": {},
   "outputs": [
    {
     "data": {
      "text/plain": [
       "0.73606063752466"
      ]
     },
     "execution_count": 95,
     "metadata": {},
     "output_type": "execute_result"
    }
   ],
   "source": [
    "rf_acc = rf1.score(xtest_sc, ytest)\n",
    "rf_acc"
   ]
  },
  {
   "cell_type": "code",
   "execution_count": 91,
   "metadata": {},
   "outputs": [
    {
     "name": "stdout",
     "output_type": "stream",
     "text": [
      "Precision Score :  0.20016891891891891\n",
      "Recall Score :  0.42245989304812837\n",
      "f1 Score :  0.27163323782234955\n",
      "AUC :  0.5999360224436786\n",
      "Classification Report :                precision    recall  f1-score   support\n",
      "\n",
      "           0       0.91      0.78      0.84      8509\n",
      "           1       0.20      0.42      0.27      1122\n",
      "\n",
      "   micro avg       0.74      0.74      0.74      9631\n",
      "   macro avg       0.56      0.60      0.56      9631\n",
      "weighted avg       0.83      0.74      0.77      9631\n",
      "\n",
      "Confusion matrix :  [[6615 1894]\n",
      " [ 648  474]]\n"
     ]
    }
   ],
   "source": [
    "test_pred = rf1.predict(xtest_sc)\n",
    "\n",
    "scores(test_pred, ytest)"
   ]
  },
  {
   "cell_type": "code",
   "execution_count": 92,
   "metadata": {},
   "outputs": [
    {
     "data": {
      "image/png": "[encoded data removed]",
      "text/plain": [
       "<Figure size 432x288 with 1 Axes>"
      ]
     },
     "metadata": {
      "needs_background": "light"
     },
     "output_type": "display_data"
    }
   ],
   "source": [
    "probs_rf = rf1.predict_proba(xtest_sc)\n",
    "probs_rf = probs_rf[:, 1]\n",
    "gen_roc_curve(probs_rf, ytest, title= 'ROC curve for Random Forest Classifier')"
   ]
  },
  {
   "cell_type": "markdown",
   "metadata": {},
   "source": [
    "Let's draw all the ROC curves in one frame"
   ]
  },
  {
   "cell_type": "code",
   "execution_count": 102,
   "metadata": {},
   "outputs": [
    {
     "data": {
      "image/png": "[encoded data removed]",
      "text/plain": [
       "<Figure size 1080x720 with 1 Axes>"
      ]
     },
     "metadata": {
      "needs_background": "light"
     },
     "output_type": "display_data"
    }
   ],
   "source": [
    "plt.figure(figsize=(15,10))\n",
    "\n",
    "fpr_lr, tpr_lr, thres_lr = roc_curve(ytest, probs_lr)\n",
    "fpr_dt, tpr_dt, thres_dt = roc_curve(ytest, probs_dt)\n",
    "fpr_rf, tpr_rf, thres_rf = roc_curve(ytest, probs_rf)\n",
    "\n",
    "plt.plot([0, 1], [0, 1])\n",
    "# plot the roc curve for the model\n",
    "plt.plot(fpr_lr, tpr_lr, label = 'Logistic Regression accuracy : {0:.2f}'.format(lr_acc))\n",
    "plt.plot(fpr_dt, tpr_dt, label = 'Decision Tree accuracy : {0:.2f}'.format(dte_acc), color = 'blue')\n",
    "plt.plot(fpr_rf, tpr_rf, label = 'Random Forest accuracy : {0:.2f}'.format(rf_acc), color='green')\n",
    "\n",
    "plt.legend(loc = 'lower right')\n",
    "\n",
    "plt.ylabel('True Positive Rate')\n",
    "plt.xlabel('False Positive Rate')\n",
    "plt.title('Comparison of all three models')\n",
    "# show the plo1\n",
    "plt.show()"
   ]
  },
  {
   "cell_type": "markdown",
   "metadata": {},
   "source": [
    "As we can see from the above figure that Random Forest is perfroming better than other two and has higher test accuracy and Random forest also has higher f1 score than the other two "
   ]
  },
  {
   "cell_type": "markdown",
   "metadata": {},
   "source": [
    "<h2>Important Feature of the models</h2>\n",
    "\n",
    "Let's have a look at the feature importance of each of the model "
   ]
  },
  {
   "cell_type": "code",
   "execution_count": 107,
   "metadata": {},
   "outputs": [
    {
     "data": {
      "text/html": [
       "<div>\n",
       "<style scoped>\n",
       "    .dataframe tbody tr th:only-of-type {\n",
       "        vertical-align: middle;\n",
       "    }\n",
       "\n",
       "    .dataframe tbody tr th {\n",
       "        vertical-align: top;\n",
       "    }\n",
       "\n",
       "    .dataframe thead th {\n",
       "        text-align: right;\n",
       "    }\n",
       "</style>\n",
       "<table border=\"1\" class=\"dataframe\">\n",
       "  <thead>\n",
       "    <tr style=\"text-align: right;\">\n",
       "      <th></th>\n",
       "      <th>importance</th>\n",
       "    </tr>\n",
       "  </thead>\n",
       "  <tbody>\n",
       "    <tr>\n",
       "      <th>number_inpatient</th>\n",
       "      <td>0.335696</td>\n",
       "    </tr>\n",
       "    <tr>\n",
       "      <th>discharge_disposition_id</th>\n",
       "      <td>0.144731</td>\n",
       "    </tr>\n",
       "    <tr>\n",
       "      <th>number_diagnoses</th>\n",
       "      <td>0.099321</td>\n",
       "    </tr>\n",
       "    <tr>\n",
       "      <th>diabetesMed</th>\n",
       "      <td>0.073000</td>\n",
       "    </tr>\n",
       "    <tr>\n",
       "      <th>time_in_hospital</th>\n",
       "      <td>0.065550</td>\n",
       "    </tr>\n",
       "    <tr>\n",
       "      <th>number_emergency</th>\n",
       "      <td>0.062372</td>\n",
       "    </tr>\n",
       "    <tr>\n",
       "      <th>diag1_cat_1</th>\n",
       "      <td>0.051340</td>\n",
       "    </tr>\n",
       "    <tr>\n",
       "      <th>diag2_cat_4</th>\n",
       "      <td>0.047759</td>\n",
       "    </tr>\n",
       "    <tr>\n",
       "      <th>insulin_Down</th>\n",
       "      <td>0.045843</td>\n",
       "    </tr>\n",
       "    <tr>\n",
       "      <th>diag2_cat_8</th>\n",
       "      <td>0.045637</td>\n",
       "    </tr>\n",
       "    <tr>\n",
       "      <th>diag1_cat_4</th>\n",
       "      <td>0.042143</td>\n",
       "    </tr>\n",
       "    <tr>\n",
       "      <th>num_medications</th>\n",
       "      <td>0.035511</td>\n",
       "    </tr>\n",
       "    <tr>\n",
       "      <th>age_[80-100)</th>\n",
       "      <td>0.033217</td>\n",
       "    </tr>\n",
       "    <tr>\n",
       "      <th>A1Cresult_None</th>\n",
       "      <td>0.033203</td>\n",
       "    </tr>\n",
       "    <tr>\n",
       "      <th>diag3_cat_8</th>\n",
       "      <td>0.033200</td>\n",
       "    </tr>\n",
       "    <tr>\n",
       "      <th>diag3_cat_4</th>\n",
       "      <td>0.028604</td>\n",
       "    </tr>\n",
       "    <tr>\n",
       "      <th>max_glu_serum_&gt;200</th>\n",
       "      <td>0.027319</td>\n",
       "    </tr>\n",
       "    <tr>\n",
       "      <th>insulin_Up</th>\n",
       "      <td>0.026550</td>\n",
       "    </tr>\n",
       "    <tr>\n",
       "      <th>age_[60-70)</th>\n",
       "      <td>0.022382</td>\n",
       "    </tr>\n",
       "    <tr>\n",
       "      <th>num_lab_procedures</th>\n",
       "      <td>0.020410</td>\n",
       "    </tr>\n",
       "    <tr>\n",
       "      <th>diag3_cat_3</th>\n",
       "      <td>0.019857</td>\n",
       "    </tr>\n",
       "    <tr>\n",
       "      <th>diag3_cat_7</th>\n",
       "      <td>0.019028</td>\n",
       "    </tr>\n",
       "    <tr>\n",
       "      <th>age_[70-80)</th>\n",
       "      <td>0.017385</td>\n",
       "    </tr>\n",
       "    <tr>\n",
       "      <th>diag2_cat_5</th>\n",
       "      <td>0.012376</td>\n",
       "    </tr>\n",
       "    <tr>\n",
       "      <th>diag1_cat_5</th>\n",
       "      <td>0.011140</td>\n",
       "    </tr>\n",
       "    <tr>\n",
       "      <th>diag3_cat_2</th>\n",
       "      <td>0.010958</td>\n",
       "    </tr>\n",
       "    <tr>\n",
       "      <th>max_glu_serum_&gt;300</th>\n",
       "      <td>0.010792</td>\n",
       "    </tr>\n",
       "    <tr>\n",
       "      <th>diag1_cat_7</th>\n",
       "      <td>0.010408</td>\n",
       "    </tr>\n",
       "    <tr>\n",
       "      <th>race_AfricanAmerican</th>\n",
       "      <td>0.007905</td>\n",
       "    </tr>\n",
       "    <tr>\n",
       "      <th>diag2_cat_7</th>\n",
       "      <td>0.006122</td>\n",
       "    </tr>\n",
       "    <tr>\n",
       "      <th>...</th>\n",
       "      <td>...</td>\n",
       "    </tr>\n",
       "    <tr>\n",
       "      <th>diag2_cat_3</th>\n",
       "      <td>0.000440</td>\n",
       "    </tr>\n",
       "    <tr>\n",
       "      <th>gender_Female</th>\n",
       "      <td>0.000384</td>\n",
       "    </tr>\n",
       "    <tr>\n",
       "      <th>diag1_cat_6</th>\n",
       "      <td>-0.000328</td>\n",
       "    </tr>\n",
       "    <tr>\n",
       "      <th>gender_Male</th>\n",
       "      <td>-0.000384</td>\n",
       "    </tr>\n",
       "    <tr>\n",
       "      <th>diag3_cat_5</th>\n",
       "      <td>-0.004961</td>\n",
       "    </tr>\n",
       "    <tr>\n",
       "      <th>A1Cresult_Norm</th>\n",
       "      <td>-0.006236</td>\n",
       "    </tr>\n",
       "    <tr>\n",
       "      <th>admission_type_id</th>\n",
       "      <td>-0.006794</td>\n",
       "    </tr>\n",
       "    <tr>\n",
       "      <th>max_glu_serum_Norm</th>\n",
       "      <td>-0.007205</td>\n",
       "    </tr>\n",
       "    <tr>\n",
       "      <th>diag1_cat_0</th>\n",
       "      <td>-0.007275</td>\n",
       "    </tr>\n",
       "    <tr>\n",
       "      <th>diag3_cat_6</th>\n",
       "      <td>-0.008315</td>\n",
       "    </tr>\n",
       "    <tr>\n",
       "      <th>diag2_cat_6</th>\n",
       "      <td>-0.011969</td>\n",
       "    </tr>\n",
       "    <tr>\n",
       "      <th>diag2_cat_1</th>\n",
       "      <td>-0.012163</td>\n",
       "    </tr>\n",
       "    <tr>\n",
       "      <th>race_Asian</th>\n",
       "      <td>-0.013649</td>\n",
       "    </tr>\n",
       "    <tr>\n",
       "      <th>max_glu_serum_None</th>\n",
       "      <td>-0.014696</td>\n",
       "    </tr>\n",
       "    <tr>\n",
       "      <th>diag3_cat_0</th>\n",
       "      <td>-0.017559</td>\n",
       "    </tr>\n",
       "    <tr>\n",
       "      <th>A1Cresult_&gt;7</th>\n",
       "      <td>-0.018597</td>\n",
       "    </tr>\n",
       "    <tr>\n",
       "      <th>diag1_cat_3</th>\n",
       "      <td>-0.019090</td>\n",
       "    </tr>\n",
       "    <tr>\n",
       "      <th>admission_source_id</th>\n",
       "      <td>-0.020938</td>\n",
       "    </tr>\n",
       "    <tr>\n",
       "      <th>insulin_No</th>\n",
       "      <td>-0.024242</td>\n",
       "    </tr>\n",
       "    <tr>\n",
       "      <th>insulin_Steady</th>\n",
       "      <td>-0.024259</td>\n",
       "    </tr>\n",
       "    <tr>\n",
       "      <th>change</th>\n",
       "      <td>-0.024530</td>\n",
       "    </tr>\n",
       "    <tr>\n",
       "      <th>race_Other</th>\n",
       "      <td>-0.027533</td>\n",
       "    </tr>\n",
       "    <tr>\n",
       "      <th>A1Cresult_&gt;8</th>\n",
       "      <td>-0.027758</td>\n",
       "    </tr>\n",
       "    <tr>\n",
       "      <th>diag3_cat_1</th>\n",
       "      <td>-0.036698</td>\n",
       "    </tr>\n",
       "    <tr>\n",
       "      <th>age_[40-50)</th>\n",
       "      <td>-0.037289</td>\n",
       "    </tr>\n",
       "    <tr>\n",
       "      <th>diag1_cat_8</th>\n",
       "      <td>-0.039069</td>\n",
       "    </tr>\n",
       "    <tr>\n",
       "      <th>num_procedures</th>\n",
       "      <td>-0.048123</td>\n",
       "    </tr>\n",
       "    <tr>\n",
       "      <th>age_[50-60)</th>\n",
       "      <td>-0.053963</td>\n",
       "    </tr>\n",
       "    <tr>\n",
       "      <th>diag2_cat_2</th>\n",
       "      <td>-0.062017</td>\n",
       "    </tr>\n",
       "    <tr>\n",
       "      <th>diag1_cat_2</th>\n",
       "      <td>-0.069787</td>\n",
       "    </tr>\n",
       "  </tbody>\n",
       "</table>\n",
       "<p>65 rows × 1 columns</p>\n",
       "</div>"
      ],
      "text/plain": [
       "                          importance\n",
       "number_inpatient            0.335696\n",
       "discharge_disposition_id    0.144731\n",
       "number_diagnoses            0.099321\n",
       "diabetesMed                 0.073000\n",
       "time_in_hospital            0.065550\n",
       "number_emergency            0.062372\n",
       "diag1_cat_1                 0.051340\n",
       "diag2_cat_4                 0.047759\n",
       "insulin_Down                0.045843\n",
       "diag2_cat_8                 0.045637\n",
       "diag1_cat_4                 0.042143\n",
       "num_medications             0.035511\n",
       "age_[80-100)                0.033217\n",
       "A1Cresult_None              0.033203\n",
       "diag3_cat_8                 0.033200\n",
       "diag3_cat_4                 0.028604\n",
       "max_glu_serum_>200          0.027319\n",
       "insulin_Up                  0.026550\n",
       "age_[60-70)                 0.022382\n",
       "num_lab_procedures          0.020410\n",
       "diag3_cat_3                 0.019857\n",
       "diag3_cat_7                 0.019028\n",
       "age_[70-80)                 0.017385\n",
       "diag2_cat_5                 0.012376\n",
       "diag1_cat_5                 0.011140\n",
       "diag3_cat_2                 0.010958\n",
       "max_glu_serum_>300          0.010792\n",
       "diag1_cat_7                 0.010408\n",
       "race_AfricanAmerican        0.007905\n",
       "diag2_cat_7                 0.006122\n",
       "...                              ...\n",
       "diag2_cat_3                 0.000440\n",
       "gender_Female               0.000384\n",
       "diag1_cat_6                -0.000328\n",
       "gender_Male                -0.000384\n",
       "diag3_cat_5                -0.004961\n",
       "A1Cresult_Norm             -0.006236\n",
       "admission_type_id          -0.006794\n",
       "max_glu_serum_Norm         -0.007205\n",
       "diag1_cat_0                -0.007275\n",
       "diag3_cat_6                -0.008315\n",
       "diag2_cat_6                -0.011969\n",
       "diag2_cat_1                -0.012163\n",
       "race_Asian                 -0.013649\n",
       "max_glu_serum_None         -0.014696\n",
       "diag3_cat_0                -0.017559\n",
       "A1Cresult_>7               -0.018597\n",
       "diag1_cat_3                -0.019090\n",
       "admission_source_id        -0.020938\n",
       "insulin_No                 -0.024242\n",
       "insulin_Steady             -0.024259\n",
       "change                     -0.024530\n",
       "race_Other                 -0.027533\n",
       "A1Cresult_>8               -0.027758\n",
       "diag3_cat_1                -0.036698\n",
       "age_[40-50)                -0.037289\n",
       "diag1_cat_8                -0.039069\n",
       "num_procedures             -0.048123\n",
       "age_[50-60)                -0.053963\n",
       "diag2_cat_2                -0.062017\n",
       "diag1_cat_2                -0.069787\n",
       "\n",
       "[65 rows x 1 columns]"
      ]
     },
     "execution_count": 107,
     "metadata": {},
     "output_type": "execute_result"
    }
   ],
   "source": [
    "lr_imp_feature = pd.DataFrame(lr.coef_[0], index=xtrain.columns, columns=['importance']).sort_values('importance', ascending=False)\n",
    "lr_imp_feature"
   ]
  },
  {
   "cell_type": "code",
   "execution_count": 111,
   "metadata": {},
   "outputs": [
    {
     "data": {
      "text/html": [
       "<div>\n",
       "<style scoped>\n",
       "    .dataframe tbody tr th:only-of-type {\n",
       "        vertical-align: middle;\n",
       "    }\n",
       "\n",
       "    .dataframe tbody tr th {\n",
       "        vertical-align: top;\n",
       "    }\n",
       "\n",
       "    .dataframe thead th {\n",
       "        text-align: right;\n",
       "    }\n",
       "</style>\n",
       "<table border=\"1\" class=\"dataframe\">\n",
       "  <thead>\n",
       "    <tr style=\"text-align: right;\">\n",
       "      <th></th>\n",
       "      <th>importance</th>\n",
       "    </tr>\n",
       "  </thead>\n",
       "  <tbody>\n",
       "    <tr>\n",
       "      <th>number_inpatient</th>\n",
       "      <td>0.213720</td>\n",
       "    </tr>\n",
       "    <tr>\n",
       "      <th>discharge_disposition_id</th>\n",
       "      <td>0.162337</td>\n",
       "    </tr>\n",
       "    <tr>\n",
       "      <th>num_medications</th>\n",
       "      <td>0.084071</td>\n",
       "    </tr>\n",
       "    <tr>\n",
       "      <th>num_lab_procedures</th>\n",
       "      <td>0.079092</td>\n",
       "    </tr>\n",
       "    <tr>\n",
       "      <th>time_in_hospital</th>\n",
       "      <td>0.052129</td>\n",
       "    </tr>\n",
       "    <tr>\n",
       "      <th>number_diagnoses</th>\n",
       "      <td>0.030951</td>\n",
       "    </tr>\n",
       "    <tr>\n",
       "      <th>num_procedures</th>\n",
       "      <td>0.025234</td>\n",
       "    </tr>\n",
       "    <tr>\n",
       "      <th>admission_source_id</th>\n",
       "      <td>0.019648</td>\n",
       "    </tr>\n",
       "    <tr>\n",
       "      <th>number_emergency</th>\n",
       "      <td>0.018128</td>\n",
       "    </tr>\n",
       "    <tr>\n",
       "      <th>diag2_cat_2</th>\n",
       "      <td>0.016709</td>\n",
       "    </tr>\n",
       "    <tr>\n",
       "      <th>diag1_cat_6</th>\n",
       "      <td>0.014938</td>\n",
       "    </tr>\n",
       "    <tr>\n",
       "      <th>diag1_cat_2</th>\n",
       "      <td>0.014896</td>\n",
       "    </tr>\n",
       "    <tr>\n",
       "      <th>diag1_cat_1</th>\n",
       "      <td>0.012677</td>\n",
       "    </tr>\n",
       "    <tr>\n",
       "      <th>diag2_cat_1</th>\n",
       "      <td>0.012296</td>\n",
       "    </tr>\n",
       "    <tr>\n",
       "      <th>number_outpatient</th>\n",
       "      <td>0.012141</td>\n",
       "    </tr>\n",
       "    <tr>\n",
       "      <th>diag3_cat_0</th>\n",
       "      <td>0.011302</td>\n",
       "    </tr>\n",
       "    <tr>\n",
       "      <th>diag3_cat_1</th>\n",
       "      <td>0.010184</td>\n",
       "    </tr>\n",
       "    <tr>\n",
       "      <th>insulin_Up</th>\n",
       "      <td>0.009094</td>\n",
       "    </tr>\n",
       "    <tr>\n",
       "      <th>age_[50-60)</th>\n",
       "      <td>0.007991</td>\n",
       "    </tr>\n",
       "    <tr>\n",
       "      <th>diag3_cat_2</th>\n",
       "      <td>0.007669</td>\n",
       "    </tr>\n",
       "    <tr>\n",
       "      <th>diag2_cat_4</th>\n",
       "      <td>0.007425</td>\n",
       "    </tr>\n",
       "    <tr>\n",
       "      <th>diag3_cat_6</th>\n",
       "      <td>0.007343</td>\n",
       "    </tr>\n",
       "    <tr>\n",
       "      <th>insulin_Down</th>\n",
       "      <td>0.007323</td>\n",
       "    </tr>\n",
       "    <tr>\n",
       "      <th>diag1_cat_3</th>\n",
       "      <td>0.007070</td>\n",
       "    </tr>\n",
       "    <tr>\n",
       "      <th>diag1_cat_5</th>\n",
       "      <td>0.006969</td>\n",
       "    </tr>\n",
       "    <tr>\n",
       "      <th>gender_Female</th>\n",
       "      <td>0.006877</td>\n",
       "    </tr>\n",
       "    <tr>\n",
       "      <th>diag1_cat_7</th>\n",
       "      <td>0.006799</td>\n",
       "    </tr>\n",
       "    <tr>\n",
       "      <th>admission_type_id</th>\n",
       "      <td>0.006752</td>\n",
       "    </tr>\n",
       "    <tr>\n",
       "      <th>diabetesMed</th>\n",
       "      <td>0.006474</td>\n",
       "    </tr>\n",
       "    <tr>\n",
       "      <th>insulin_No</th>\n",
       "      <td>0.006304</td>\n",
       "    </tr>\n",
       "    <tr>\n",
       "      <th>...</th>\n",
       "      <td>...</td>\n",
       "    </tr>\n",
       "    <tr>\n",
       "      <th>A1Cresult_None</th>\n",
       "      <td>0.005578</td>\n",
       "    </tr>\n",
       "    <tr>\n",
       "      <th>insulin_Steady</th>\n",
       "      <td>0.005390</td>\n",
       "    </tr>\n",
       "    <tr>\n",
       "      <th>diag2_cat_3</th>\n",
       "      <td>0.005332</td>\n",
       "    </tr>\n",
       "    <tr>\n",
       "      <th>diag1_cat_0</th>\n",
       "      <td>0.004949</td>\n",
       "    </tr>\n",
       "    <tr>\n",
       "      <th>age_[60-70)</th>\n",
       "      <td>0.004711</td>\n",
       "    </tr>\n",
       "    <tr>\n",
       "      <th>diag3_cat_7</th>\n",
       "      <td>0.004710</td>\n",
       "    </tr>\n",
       "    <tr>\n",
       "      <th>diag2_cat_7</th>\n",
       "      <td>0.004637</td>\n",
       "    </tr>\n",
       "    <tr>\n",
       "      <th>age_[0-40)</th>\n",
       "      <td>0.004315</td>\n",
       "    </tr>\n",
       "    <tr>\n",
       "      <th>A1Cresult_&gt;8</th>\n",
       "      <td>0.004203</td>\n",
       "    </tr>\n",
       "    <tr>\n",
       "      <th>diag3_cat_3</th>\n",
       "      <td>0.003770</td>\n",
       "    </tr>\n",
       "    <tr>\n",
       "      <th>diag1_cat_4</th>\n",
       "      <td>0.003516</td>\n",
       "    </tr>\n",
       "    <tr>\n",
       "      <th>diag3_cat_4</th>\n",
       "      <td>0.003269</td>\n",
       "    </tr>\n",
       "    <tr>\n",
       "      <th>race_Hispanic</th>\n",
       "      <td>0.002763</td>\n",
       "    </tr>\n",
       "    <tr>\n",
       "      <th>race_Caucasian</th>\n",
       "      <td>0.002753</td>\n",
       "    </tr>\n",
       "    <tr>\n",
       "      <th>diag2_cat_6</th>\n",
       "      <td>0.002679</td>\n",
       "    </tr>\n",
       "    <tr>\n",
       "      <th>gender_Male</th>\n",
       "      <td>0.002543</td>\n",
       "    </tr>\n",
       "    <tr>\n",
       "      <th>diag2_cat_0</th>\n",
       "      <td>0.002542</td>\n",
       "    </tr>\n",
       "    <tr>\n",
       "      <th>max_glu_serum_None</th>\n",
       "      <td>0.002468</td>\n",
       "    </tr>\n",
       "    <tr>\n",
       "      <th>race_Other</th>\n",
       "      <td>0.002234</td>\n",
       "    </tr>\n",
       "    <tr>\n",
       "      <th>race_Asian</th>\n",
       "      <td>0.002113</td>\n",
       "    </tr>\n",
       "    <tr>\n",
       "      <th>diag2_cat_5</th>\n",
       "      <td>0.002048</td>\n",
       "    </tr>\n",
       "    <tr>\n",
       "      <th>A1Cresult_&gt;7</th>\n",
       "      <td>0.002029</td>\n",
       "    </tr>\n",
       "    <tr>\n",
       "      <th>max_glu_serum_&gt;200</th>\n",
       "      <td>0.001979</td>\n",
       "    </tr>\n",
       "    <tr>\n",
       "      <th>diag1_cat_8</th>\n",
       "      <td>0.001914</td>\n",
       "    </tr>\n",
       "    <tr>\n",
       "      <th>change</th>\n",
       "      <td>0.001760</td>\n",
       "    </tr>\n",
       "    <tr>\n",
       "      <th>max_glu_serum_Norm</th>\n",
       "      <td>0.001520</td>\n",
       "    </tr>\n",
       "    <tr>\n",
       "      <th>race_AfricanAmerican</th>\n",
       "      <td>0.000534</td>\n",
       "    </tr>\n",
       "    <tr>\n",
       "      <th>max_glu_serum_&gt;300</th>\n",
       "      <td>0.000000</td>\n",
       "    </tr>\n",
       "    <tr>\n",
       "      <th>diag3_cat_5</th>\n",
       "      <td>0.000000</td>\n",
       "    </tr>\n",
       "    <tr>\n",
       "      <th>diag3_cat_8</th>\n",
       "      <td>0.000000</td>\n",
       "    </tr>\n",
       "  </tbody>\n",
       "</table>\n",
       "<p>65 rows × 1 columns</p>\n",
       "</div>"
      ],
      "text/plain": [
       "                          importance\n",
       "number_inpatient            0.213720\n",
       "discharge_disposition_id    0.162337\n",
       "num_medications             0.084071\n",
       "num_lab_procedures          0.079092\n",
       "time_in_hospital            0.052129\n",
       "number_diagnoses            0.030951\n",
       "num_procedures              0.025234\n",
       "admission_source_id         0.019648\n",
       "number_emergency            0.018128\n",
       "diag2_cat_2                 0.016709\n",
       "diag1_cat_6                 0.014938\n",
       "diag1_cat_2                 0.014896\n",
       "diag1_cat_1                 0.012677\n",
       "diag2_cat_1                 0.012296\n",
       "number_outpatient           0.012141\n",
       "diag3_cat_0                 0.011302\n",
       "diag3_cat_1                 0.010184\n",
       "insulin_Up                  0.009094\n",
       "age_[50-60)                 0.007991\n",
       "diag3_cat_2                 0.007669\n",
       "diag2_cat_4                 0.007425\n",
       "diag3_cat_6                 0.007343\n",
       "insulin_Down                0.007323\n",
       "diag1_cat_3                 0.007070\n",
       "diag1_cat_5                 0.006969\n",
       "gender_Female               0.006877\n",
       "diag1_cat_7                 0.006799\n",
       "admission_type_id           0.006752\n",
       "diabetesMed                 0.006474\n",
       "insulin_No                  0.006304\n",
       "...                              ...\n",
       "A1Cresult_None              0.005578\n",
       "insulin_Steady              0.005390\n",
       "diag2_cat_3                 0.005332\n",
       "diag1_cat_0                 0.004949\n",
       "age_[60-70)                 0.004711\n",
       "diag3_cat_7                 0.004710\n",
       "diag2_cat_7                 0.004637\n",
       "age_[0-40)                  0.004315\n",
       "A1Cresult_>8                0.004203\n",
       "diag3_cat_3                 0.003770\n",
       "diag1_cat_4                 0.003516\n",
       "diag3_cat_4                 0.003269\n",
       "race_Hispanic               0.002763\n",
       "race_Caucasian              0.002753\n",
       "diag2_cat_6                 0.002679\n",
       "gender_Male                 0.002543\n",
       "diag2_cat_0                 0.002542\n",
       "max_glu_serum_None          0.002468\n",
       "race_Other                  0.002234\n",
       "race_Asian                  0.002113\n",
       "diag2_cat_5                 0.002048\n",
       "A1Cresult_>7                0.002029\n",
       "max_glu_serum_>200          0.001979\n",
       "diag1_cat_8                 0.001914\n",
       "change                      0.001760\n",
       "max_glu_serum_Norm          0.001520\n",
       "race_AfricanAmerican        0.000534\n",
       "max_glu_serum_>300          0.000000\n",
       "diag3_cat_5                 0.000000\n",
       "diag3_cat_8                 0.000000\n",
       "\n",
       "[65 rows x 1 columns]"
      ]
     },
     "execution_count": 111,
     "metadata": {},
     "output_type": "execute_result"
    }
   ],
   "source": [
    "dte_imp_features = pd.DataFrame(dte.feature_importances_, index=xtrain.columns, columns=['importance']).sort_values('importance', ascending=False)\n",
    "\n",
    "dte_imp_features"
   ]
  },
  {
   "cell_type": "code",
   "execution_count": 112,
   "metadata": {},
   "outputs": [
    {
     "data": {
      "text/html": [
       "<div>\n",
       "<style scoped>\n",
       "    .dataframe tbody tr th:only-of-type {\n",
       "        vertical-align: middle;\n",
       "    }\n",
       "\n",
       "    .dataframe tbody tr th {\n",
       "        vertical-align: top;\n",
       "    }\n",
       "\n",
       "    .dataframe thead th {\n",
       "        text-align: right;\n",
       "    }\n",
       "</style>\n",
       "<table border=\"1\" class=\"dataframe\">\n",
       "  <thead>\n",
       "    <tr style=\"text-align: right;\">\n",
       "      <th></th>\n",
       "      <th>importance</th>\n",
       "    </tr>\n",
       "  </thead>\n",
       "  <tbody>\n",
       "    <tr>\n",
       "      <th>number_inpatient</th>\n",
       "      <td>0.174747</td>\n",
       "    </tr>\n",
       "    <tr>\n",
       "      <th>discharge_disposition_id</th>\n",
       "      <td>0.095959</td>\n",
       "    </tr>\n",
       "    <tr>\n",
       "      <th>num_medications</th>\n",
       "      <td>0.068750</td>\n",
       "    </tr>\n",
       "    <tr>\n",
       "      <th>num_lab_procedures</th>\n",
       "      <td>0.068366</td>\n",
       "    </tr>\n",
       "    <tr>\n",
       "      <th>time_in_hospital</th>\n",
       "      <td>0.054849</td>\n",
       "    </tr>\n",
       "    <tr>\n",
       "      <th>number_diagnoses</th>\n",
       "      <td>0.040277</td>\n",
       "    </tr>\n",
       "    <tr>\n",
       "      <th>number_emergency</th>\n",
       "      <td>0.035070</td>\n",
       "    </tr>\n",
       "    <tr>\n",
       "      <th>num_procedures</th>\n",
       "      <td>0.031930</td>\n",
       "    </tr>\n",
       "    <tr>\n",
       "      <th>number_outpatient</th>\n",
       "      <td>0.021623</td>\n",
       "    </tr>\n",
       "    <tr>\n",
       "      <th>admission_source_id</th>\n",
       "      <td>0.020115</td>\n",
       "    </tr>\n",
       "    <tr>\n",
       "      <th>admission_type_id</th>\n",
       "      <td>0.013436</td>\n",
       "    </tr>\n",
       "    <tr>\n",
       "      <th>diag1_cat_2</th>\n",
       "      <td>0.013105</td>\n",
       "    </tr>\n",
       "    <tr>\n",
       "      <th>insulin_Down</th>\n",
       "      <td>0.011011</td>\n",
       "    </tr>\n",
       "    <tr>\n",
       "      <th>insulin_No</th>\n",
       "      <td>0.010434</td>\n",
       "    </tr>\n",
       "    <tr>\n",
       "      <th>diabetesMed</th>\n",
       "      <td>0.010342</td>\n",
       "    </tr>\n",
       "    <tr>\n",
       "      <th>age_[50-60)</th>\n",
       "      <td>0.010139</td>\n",
       "    </tr>\n",
       "    <tr>\n",
       "      <th>change</th>\n",
       "      <td>0.009705</td>\n",
       "    </tr>\n",
       "    <tr>\n",
       "      <th>diag3_cat_1</th>\n",
       "      <td>0.009650</td>\n",
       "    </tr>\n",
       "    <tr>\n",
       "      <th>diag1_cat_1</th>\n",
       "      <td>0.009587</td>\n",
       "    </tr>\n",
       "    <tr>\n",
       "      <th>age_[70-80)</th>\n",
       "      <td>0.009509</td>\n",
       "    </tr>\n",
       "    <tr>\n",
       "      <th>diag2_cat_1</th>\n",
       "      <td>0.009463</td>\n",
       "    </tr>\n",
       "    <tr>\n",
       "      <th>gender_Male</th>\n",
       "      <td>0.009290</td>\n",
       "    </tr>\n",
       "    <tr>\n",
       "      <th>A1Cresult_None</th>\n",
       "      <td>0.009126</td>\n",
       "    </tr>\n",
       "    <tr>\n",
       "      <th>gender_Female</th>\n",
       "      <td>0.008939</td>\n",
       "    </tr>\n",
       "    <tr>\n",
       "      <th>race_Caucasian</th>\n",
       "      <td>0.008898</td>\n",
       "    </tr>\n",
       "    <tr>\n",
       "      <th>age_[80-100)</th>\n",
       "      <td>0.008835</td>\n",
       "    </tr>\n",
       "    <tr>\n",
       "      <th>diag2_cat_4</th>\n",
       "      <td>0.008762</td>\n",
       "    </tr>\n",
       "    <tr>\n",
       "      <th>diag3_cat_0</th>\n",
       "      <td>0.008685</td>\n",
       "    </tr>\n",
       "    <tr>\n",
       "      <th>diag2_cat_2</th>\n",
       "      <td>0.008656</td>\n",
       "    </tr>\n",
       "    <tr>\n",
       "      <th>insulin_Up</th>\n",
       "      <td>0.008636</td>\n",
       "    </tr>\n",
       "    <tr>\n",
       "      <th>...</th>\n",
       "      <td>...</td>\n",
       "    </tr>\n",
       "    <tr>\n",
       "      <th>diag3_cat_7</th>\n",
       "      <td>0.007668</td>\n",
       "    </tr>\n",
       "    <tr>\n",
       "      <th>diag1_cat_4</th>\n",
       "      <td>0.007559</td>\n",
       "    </tr>\n",
       "    <tr>\n",
       "      <th>age_[40-50)</th>\n",
       "      <td>0.007292</td>\n",
       "    </tr>\n",
       "    <tr>\n",
       "      <th>insulin_Steady</th>\n",
       "      <td>0.007266</td>\n",
       "    </tr>\n",
       "    <tr>\n",
       "      <th>diag1_cat_0</th>\n",
       "      <td>0.007097</td>\n",
       "    </tr>\n",
       "    <tr>\n",
       "      <th>diag2_cat_7</th>\n",
       "      <td>0.007069</td>\n",
       "    </tr>\n",
       "    <tr>\n",
       "      <th>age_[0-40)</th>\n",
       "      <td>0.007029</td>\n",
       "    </tr>\n",
       "    <tr>\n",
       "      <th>diag2_cat_8</th>\n",
       "      <td>0.007018</td>\n",
       "    </tr>\n",
       "    <tr>\n",
       "      <th>diag1_cat_3</th>\n",
       "      <td>0.007002</td>\n",
       "    </tr>\n",
       "    <tr>\n",
       "      <th>A1Cresult_Norm</th>\n",
       "      <td>0.006191</td>\n",
       "    </tr>\n",
       "    <tr>\n",
       "      <th>A1Cresult_&gt;8</th>\n",
       "      <td>0.005989</td>\n",
       "    </tr>\n",
       "    <tr>\n",
       "      <th>diag1_cat_7</th>\n",
       "      <td>0.005871</td>\n",
       "    </tr>\n",
       "    <tr>\n",
       "      <th>diag1_cat_6</th>\n",
       "      <td>0.005363</td>\n",
       "    </tr>\n",
       "    <tr>\n",
       "      <th>diag2_cat_3</th>\n",
       "      <td>0.005184</td>\n",
       "    </tr>\n",
       "    <tr>\n",
       "      <th>A1Cresult_&gt;7</th>\n",
       "      <td>0.004997</td>\n",
       "    </tr>\n",
       "    <tr>\n",
       "      <th>diag1_cat_5</th>\n",
       "      <td>0.004930</td>\n",
       "    </tr>\n",
       "    <tr>\n",
       "      <th>diag1_cat_8</th>\n",
       "      <td>0.004761</td>\n",
       "    </tr>\n",
       "    <tr>\n",
       "      <th>max_glu_serum_None</th>\n",
       "      <td>0.004341</td>\n",
       "    </tr>\n",
       "    <tr>\n",
       "      <th>diag3_cat_3</th>\n",
       "      <td>0.004035</td>\n",
       "    </tr>\n",
       "    <tr>\n",
       "      <th>max_glu_serum_Norm</th>\n",
       "      <td>0.003941</td>\n",
       "    </tr>\n",
       "    <tr>\n",
       "      <th>diag3_cat_6</th>\n",
       "      <td>0.003823</td>\n",
       "    </tr>\n",
       "    <tr>\n",
       "      <th>max_glu_serum_&gt;200</th>\n",
       "      <td>0.003748</td>\n",
       "    </tr>\n",
       "    <tr>\n",
       "      <th>race_Hispanic</th>\n",
       "      <td>0.003715</td>\n",
       "    </tr>\n",
       "    <tr>\n",
       "      <th>diag2_cat_5</th>\n",
       "      <td>0.003698</td>\n",
       "    </tr>\n",
       "    <tr>\n",
       "      <th>diag3_cat_8</th>\n",
       "      <td>0.003519</td>\n",
       "    </tr>\n",
       "    <tr>\n",
       "      <th>diag3_cat_5</th>\n",
       "      <td>0.003366</td>\n",
       "    </tr>\n",
       "    <tr>\n",
       "      <th>race_Other</th>\n",
       "      <td>0.002743</td>\n",
       "    </tr>\n",
       "    <tr>\n",
       "      <th>diag2_cat_6</th>\n",
       "      <td>0.002699</td>\n",
       "    </tr>\n",
       "    <tr>\n",
       "      <th>max_glu_serum_&gt;300</th>\n",
       "      <td>0.002678</td>\n",
       "    </tr>\n",
       "    <tr>\n",
       "      <th>race_Asian</th>\n",
       "      <td>0.000987</td>\n",
       "    </tr>\n",
       "  </tbody>\n",
       "</table>\n",
       "<p>65 rows × 1 columns</p>\n",
       "</div>"
      ],
      "text/plain": [
       "                          importance\n",
       "number_inpatient            0.174747\n",
       "discharge_disposition_id    0.095959\n",
       "num_medications             0.068750\n",
       "num_lab_procedures          0.068366\n",
       "time_in_hospital            0.054849\n",
       "number_diagnoses            0.040277\n",
       "number_emergency            0.035070\n",
       "num_procedures              0.031930\n",
       "number_outpatient           0.021623\n",
       "admission_source_id         0.020115\n",
       "admission_type_id           0.013436\n",
       "diag1_cat_2                 0.013105\n",
       "insulin_Down                0.011011\n",
       "insulin_No                  0.010434\n",
       "diabetesMed                 0.010342\n",
       "age_[50-60)                 0.010139\n",
       "change                      0.009705\n",
       "diag3_cat_1                 0.009650\n",
       "diag1_cat_1                 0.009587\n",
       "age_[70-80)                 0.009509\n",
       "diag2_cat_1                 0.009463\n",
       "gender_Male                 0.009290\n",
       "A1Cresult_None              0.009126\n",
       "gender_Female               0.008939\n",
       "race_Caucasian              0.008898\n",
       "age_[80-100)                0.008835\n",
       "diag2_cat_4                 0.008762\n",
       "diag3_cat_0                 0.008685\n",
       "diag2_cat_2                 0.008656\n",
       "insulin_Up                  0.008636\n",
       "...                              ...\n",
       "diag3_cat_7                 0.007668\n",
       "diag1_cat_4                 0.007559\n",
       "age_[40-50)                 0.007292\n",
       "insulin_Steady              0.007266\n",
       "diag1_cat_0                 0.007097\n",
       "diag2_cat_7                 0.007069\n",
       "age_[0-40)                  0.007029\n",
       "diag2_cat_8                 0.007018\n",
       "diag1_cat_3                 0.007002\n",
       "A1Cresult_Norm              0.006191\n",
       "A1Cresult_>8                0.005989\n",
       "diag1_cat_7                 0.005871\n",
       "diag1_cat_6                 0.005363\n",
       "diag2_cat_3                 0.005184\n",
       "A1Cresult_>7                0.004997\n",
       "diag1_cat_5                 0.004930\n",
       "diag1_cat_8                 0.004761\n",
       "max_glu_serum_None          0.004341\n",
       "diag3_cat_3                 0.004035\n",
       "max_glu_serum_Norm          0.003941\n",
       "diag3_cat_6                 0.003823\n",
       "max_glu_serum_>200          0.003748\n",
       "race_Hispanic               0.003715\n",
       "diag2_cat_5                 0.003698\n",
       "diag3_cat_8                 0.003519\n",
       "diag3_cat_5                 0.003366\n",
       "race_Other                  0.002743\n",
       "diag2_cat_6                 0.002699\n",
       "max_glu_serum_>300          0.002678\n",
       "race_Asian                  0.000987\n",
       "\n",
       "[65 rows x 1 columns]"
      ]
     },
     "execution_count": 112,
     "metadata": {},
     "output_type": "execute_result"
    }
   ],
   "source": [
    "most_imp_features_rf = pd.DataFrame(rf1.feature_importances_, index=xtrain.columns, columns=['importance']).sort_values('importance', ascending=False)\n",
    "\n",
    "most_imp_features_rf"
   ]
  },
  {
   "cell_type": "markdown",
   "metadata": {},
   "source": [
    "<h2>Conclusions </h2>"
   ]
  },
  {
   "cell_type": "markdown",
   "metadata": {},
   "source": [
    "We can draw several conclusions from the features importance of the three models :\n",
    "\n",
    "   1. number_inpatient and discharge_disposition_id are the most important features of the data to determine whether a person will get readmitted in the hospital within 30 days. \n",
    "   \n",
    "   number_inpatient  = number of inpatient visit of the patient in the year preceding the encounter\n",
    "   \n",
    "   discharge_disposition_id = id's which corresponds to the place where patient was discharged like other hospital, discharge to home etc.\n",
    "   \n",
    "   \n",
    "  2. If we take a look at the importance of age, we find out that age falling in range 80-100, 70-80 and 50-60 correspond more to the readmission of the patient in 30 days.\n",
    "   \n",
    "   \n",
    "  3. If we look at the importance of gender , we find that they doen't contribute much towards the positive class but if look at individuals then we find out that males have slightly more tendency of readmission than females in 30 days.\n",
    "  \n",
    "  \n",
    "  4. Let's talk about Diagnosis which include primary , secondary and additional secondary. Primary(diag_1) and Secondary(diag_2) diagnosis are more important than the additional secondary, so we can say that if primary and secondary diagnosis are not proper than people have higher probability of getting readmitted. \n",
    "  \n",
    "      if we talk about categories in diagnosis then disease of circulatory (category 1), disease of respiratory system (category 2) and Diabetic Mellitus (category 4) are most important in diagnosis. \n",
    "      \n",
    "      \n",
    "  5. Readmission of a patient also depends upon the family information, and weight of the patient (which were highly missing ithis dataset).\n",
    "  \n",
    " \n",
    "  6. Overall if we see,  the hospital should consider the following things like number of procedures, primary medication, number of diagnosis to minimize the readmissions of the patients."
   ]
  }
 ],
 "metadata": {
  "kernelspec": {
   "display_name": "Python 3",
   "language": "python",
   "name": "python3"
  },
  "language_info": {
   "codemirror_mode": {
    "name": "ipython",
    "version": 3
   },
   "file_extension": ".py",
   "mimetype": "text/x-python",
   "name": "python",
   "nbconvert_exporter": "python",
   "pygments_lexer": "ipython3",
   "version": "3.7.1"
  }
 },
 "nbformat": 4,
 "nbformat_minor": 2
}
